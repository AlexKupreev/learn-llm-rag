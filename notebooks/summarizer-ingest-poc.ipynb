{
 "cells": [
  {
   "metadata": {},
   "cell_type": "markdown",
   "source": "# Summarizer Proof of Concept",
   "id": "895b241e7f0998c8"
  },
  {
   "metadata": {
    "ExecuteTime": {
     "end_time": "2024-10-29T12:35:40.214995Z",
     "start_time": "2024-10-29T12:35:40.188955Z"
    }
   },
   "cell_type": "code",
   "source": [
    "%load_ext autoreload\n",
    "\n",
    "%autoreload 2"
   ],
   "id": "8529bc5c674d0c6a",
   "outputs": [],
   "execution_count": 1
  },
  {
   "metadata": {
    "ExecuteTime": {
     "end_time": "2024-10-29T12:35:42.454174Z",
     "start_time": "2024-10-29T12:35:40.224128Z"
    }
   },
   "cell_type": "code",
   "source": [
    "import hashlib\n",
    "import httpx\n",
    "import json\n",
    "import time\n",
    "from datetime import datetime, timedelta\n",
    "from pathlib import Path\n",
    "\n",
    "import cleanurl\n",
    "import pandas as pd\n",
    "from dotenv import load_dotenv\n",
    "from openai import OpenAI\n",
    "from tqdm.auto import tqdm\n",
    "from bs4 import BeautifulSoup\n"
   ],
   "id": "1d6474396de14e43",
   "outputs": [],
   "execution_count": 2
  },
  {
   "metadata": {
    "ExecuteTime": {
     "end_time": "2024-10-29T12:35:42.836567Z",
     "start_time": "2024-10-29T12:35:42.609868Z"
    }
   },
   "cell_type": "code",
   "source": "started_at = time.time()",
   "id": "1b753adcb5e50be3",
   "outputs": [],
   "execution_count": 3
  },
  {
   "metadata": {
    "ExecuteTime": {
     "end_time": "2024-10-29T12:35:42.971942Z",
     "start_time": "2024-10-29T12:35:42.856749Z"
    }
   },
   "cell_type": "code",
   "source": "nb_path = Path()",
   "id": "f7fd4493ffaed5db",
   "outputs": [],
   "execution_count": 4
  },
  {
   "metadata": {
    "ExecuteTime": {
     "end_time": "2024-10-29T12:35:43.104967Z",
     "start_time": "2024-10-29T12:35:42.990982Z"
    }
   },
   "cell_type": "code",
   "source": "load_dotenv(nb_path / \"../.env\", verbose=True)",
   "id": "584c52a3f245c4d6",
   "outputs": [
    {
     "data": {
      "text/plain": [
       "True"
      ]
     },
     "execution_count": 5,
     "metadata": {},
     "output_type": "execute_result"
    }
   ],
   "execution_count": 5
  },
  {
   "metadata": {
    "ExecuteTime": {
     "end_time": "2024-10-29T12:35:43.229633Z",
     "start_time": "2024-10-29T12:35:43.127554Z"
    }
   },
   "cell_type": "code",
   "source": [
    "# document identifier is needed for reference to vector DB\n",
    "def generate_document_id(url: str | None, content: str | None) -> str:\n",
    "    \"\"\"Generate unique document identifier based on URL or cleaned content\"\"\"\n",
    "    MAX_CHARS = 240\n",
    "    \n",
    "    # if that's a URL, clean it from trackers\n",
    "    # if no, make lowercase\n",
    "    if url:\n",
    "        cleaned = cleanurl.cleanurl(url.strip())\n",
    "        # strip schema\n",
    "        cleaned = cleaned.schemeless_url\n",
    "    elif content:\n",
    "        cleaned = content.strip().lower()\n",
    "    else:\n",
    "        raise ValueError(\"URL and Content is empty\")\n",
    "    \n",
    "    truncated = cleaned[:MAX_CHARS]\n",
    "    hash_object = hashlib.sha1(truncated.encode())\n",
    "    hash_hex = hash_object.hexdigest()\n",
    "    document_id = hash_hex[:10]\n",
    "    return document_id"
   ],
   "id": "9204316523a9d85f",
   "outputs": [],
   "execution_count": 6
  },
  {
   "metadata": {},
   "cell_type": "markdown",
   "source": "## Load data",
   "id": "6f873ab7e6c7ddab"
  },
  {
   "metadata": {
    "ExecuteTime": {
     "end_time": "2024-10-29T12:35:43.438240Z",
     "start_time": "2024-10-29T12:35:43.255429Z"
    }
   },
   "cell_type": "code",
   "source": [
    "from readability import Document\n",
    "\n",
    "class ContentIsVideoError(Exception):\n",
    "    pass\n",
    "\n",
    "def fetch_url_content(client, url, truncate_words: int = 500) -> str:\n",
    "    if \"youtube.com\" in url or \"youtu.be\" in url:\n",
    "        raise ContentIsVideoError(\"YouTube video content is not available.\")\n",
    "\n",
    "    response = client.get(url, follow_redirects=True)\n",
    "    # soup = BeautifulSoup(response.text, 'html.parser')\n",
    "    \n",
    "    doc = Document(response.content)\n",
    "    soup = BeautifulSoup(doc.summary(), 'html.parser')\n",
    "    \n",
    "    # Remove script and style elements\n",
    "    for script in soup([\"script\", \"style\"]):\n",
    "        script.decompose()\n",
    "    \n",
    "    # Get text\n",
    "    text = soup.get_text()\n",
    "    \n",
    "    # Break into lines and remove leading and trailing space on each\n",
    "    lines = (line.strip() for line in text.splitlines())\n",
    "    \n",
    "    # Break multi-headlines into a line each\n",
    "    chunks = (phrase.strip() for line in lines for phrase in line.split(\"  \"))\n",
    "    \n",
    "    # Drop blank lines\n",
    "    text = '\\n'.join(chunk for chunk in chunks if chunk)\n",
    "    \n",
    "    # Truncate to first 500 words\n",
    "    if truncate_words:\n",
    "        words = text.split()[:truncate_words]\n",
    "\n",
    "        return ' '.join(words)\n",
    "    \n",
    "    return text"
   ],
   "id": "ef9129bb089011d9",
   "outputs": [],
   "execution_count": 7
  },
  {
   "metadata": {
    "ExecuteTime": {
     "end_time": "2024-10-29T12:35:43.519557Z",
     "start_time": "2024-10-29T12:35:43.449730Z"
    }
   },
   "cell_type": "code",
   "source": [
    "def fetch_meta_description(client, url):\n",
    "    try:\n",
    "        response = client.get(url, follow_redirects=True, timeout=10.0)\n",
    "        soup = BeautifulSoup(response.text, 'html.parser')\n",
    "        meta_desc = soup.find('meta', attrs={'name': 'description'}) or soup.find('meta', attrs={'property': 'og:description'})\n",
    "        return meta_desc['content'] if meta_desc else \"No description available.\"\n",
    "    except Exception as e:\n",
    "        return f\"Error fetching meta description: {str(e)}\""
   ],
   "id": "d63e053a6a07639",
   "outputs": [],
   "execution_count": 8
  },
  {
   "metadata": {
    "ExecuteTime": {
     "end_time": "2024-10-29T12:35:43.750974Z",
     "start_time": "2024-10-29T12:35:43.535324Z"
    }
   },
   "cell_type": "code",
   "source": [
    "def fetch_wayback_content(client, url, truncate_words: int = 500):\n",
    "    try:\n",
    "        if \"youtube.com\" in url or \"youtu.be\" in url:\n",
    "            raise ContentIsVideoError(\"YouTube video content is not available.\")\n",
    "        \n",
    "        # First, we need to get the latest snapshot from Wayback Machine\n",
    "        wb_url = f\"http://archive.org/wayback/available?url={url}\"\n",
    "        response = client.get(wb_url, follow_redirects=True)\n",
    "        data = response.json()\n",
    "        \n",
    "        if \"archived_snapshots\" in data and \"closest\" in data[\"archived_snapshots\"]:\n",
    "            snapshot_url = data[\"archived_snapshots\"][\"closest\"][\"url\"]\n",
    "            \n",
    "            # Now fetch the content from the snapshot\n",
    "            response = client.get(snapshot_url)\n",
    "            # print(response.status_code)\n",
    "            # print(response.is_error)\n",
    "            # print(response.text)\n",
    "            \n",
    "            soup = BeautifulSoup(response.text, 'html.parser')\n",
    "            \n",
    "            # Remove script and style elements\n",
    "            for script in soup([\"script\", \"style\"]):\n",
    "                script.decompose()\n",
    "            \n",
    "            # Get text\n",
    "            text = soup.get_text()\n",
    "            \n",
    "            # Break into lines and remove leading and trailing space on each\n",
    "            lines = (line.strip() for line in text.splitlines())\n",
    "            \n",
    "            # Break multi-headlines into a line each\n",
    "            chunks = (phrase.strip() for line in lines for phrase in line.split(\"  \"))\n",
    "            \n",
    "            # Drop blank lines\n",
    "            text = '\\n'.join(chunk for chunk in chunks if chunk)\n",
    "            \n",
    "            # Truncate to N words\n",
    "            words = text.split()[:truncate_words]\n",
    "            return ' '.join(words)\n",
    "        else:\n",
    "            print(\"No Wayback Machine snapshot available.\")\n",
    "        \n",
    "            return None\n",
    "    except Exception as e:\n",
    "        print(f\"Error fetching Wayback content: {str(e)}\")\n",
    "    \n",
    "        return None\n"
   ],
   "id": "46a3e3bf647caf8e",
   "outputs": [],
   "execution_count": 9
  },
  {
   "metadata": {
    "ExecuteTime": {
     "end_time": "2024-10-29T12:35:43.898069Z",
     "start_time": "2024-10-29T12:35:43.770502Z"
    }
   },
   "cell_type": "code",
   "source": [
    "def fetch_hn_comments(client, item_id, max_comments=10):\n",
    "    url = f\"https://hacker-news.firebaseio.com/v0/item/{item_id}.json\"\n",
    "    response = client.get(url)\n",
    "    item_data = response.json()\n",
    "    \n",
    "    comments = []\n",
    "    if \"kids\" in item_data:\n",
    "        for comment_id in item_data[\"kids\"][:max_comments]:\n",
    "            comment_url = f\"https://hacker-news.firebaseio.com/v0/item/{comment_id}.json\"\n",
    "            comment_response = client.get(comment_url)\n",
    "            comment_data = comment_response.json()\n",
    "            if comment_data.get(\"text\"):\n",
    "                comments.append({\n",
    "                    \"author\": comment_data.get(\"by\", \"Anonymous\"),\n",
    "                    \"text\": comment_data[\"text\"],\n",
    "                    \"time\": datetime.fromtimestamp(comment_data[\"time\"]).isoformat()\n",
    "                })\n",
    "    \n",
    "    return comments\n",
    "\n",
    "def fetch_lobsters_comments(client, short_id, max_comments=10):\n",
    "    url = f\"https://lobste.rs/s/{short_id}.json\"\n",
    "    response = client.get(url)\n",
    "    story_data = response.json()\n",
    "    \n",
    "    comments = []\n",
    "    for comment in story_data.get(\"comments\", [])[:max_comments]:\n",
    "        comments.append({\n",
    "            \"author\": comment.get(\"commenting_user\", {}),\n",
    "            \"text\": comment[\"comment\"],\n",
    "            \"time\": comment[\"created_at\"]\n",
    "        })\n",
    "    \n",
    "    return comments"
   ],
   "id": "14b1db6f40976610",
   "outputs": [],
   "execution_count": 10
  },
  {
   "metadata": {
    "ExecuteTime": {
     "end_time": "2024-10-29T12:35:44.026984Z",
     "start_time": "2024-10-29T12:35:43.914373Z"
    }
   },
   "cell_type": "code",
   "source": [
    "hn_dump_file = \"hn_news.json\"\n",
    "lr_dump_file = \"lr_news.json\""
   ],
   "id": "c62c02483daf2eb2",
   "outputs": [],
   "execution_count": 11
  },
  {
   "metadata": {
    "ExecuteTime": {
     "end_time": "2024-10-29T12:35:44.134909Z",
     "start_time": "2024-10-29T12:35:44.062525Z"
    }
   },
   "cell_type": "code",
   "source": [
    "def get_stories_to_download(stories: list, source: str) -> list:\n",
    "    \"\"\"Get list of stories for a source that need to be downloaded\n",
    "    \n",
    "    Absolutely dumb implementation.\n",
    "    \"\"\"\n",
    "    stories_to_download = []\n",
    "    \n",
    "    if source == \"Hacker News\":\n",
    "        story_ids = [str(story_id) for story_id in stories]\n",
    "        try:\n",
    "            with open(hn_dump_file, \"r\") as fp:\n",
    "                stored_news = json.load(fp)\n",
    "                    \n",
    "        except (FileNotFoundError, json.JSONDecodeError):\n",
    "            stored_news = []\n",
    "            \n",
    "    elif source == \"Lobsters\":\n",
    "        story_ids = [str(story[\"short_id\"]) for story in stories]\n",
    "        try:\n",
    "            with open(lr_dump_file, \"r\") as fp:\n",
    "                stored_news = json.load(fp)\n",
    "        except (FileNotFoundError, json.JSONDecodeError):\n",
    "            stored_news = []\n",
    "        \n",
    "    else:\n",
    "        raise ValueError(\"Unknown source\")\n",
    "    \n",
    "    stored_ids = [news_item[\"original_id\"] for news_item in stored_news]\n",
    "    \n",
    "    for story_id in story_ids:\n",
    "        if story_id not in stored_ids:\n",
    "            stories_to_download.append(story_id)\n",
    "            \n",
    "    return stories_to_download\n",
    "    "
   ],
   "id": "1a45e6a88c65a67",
   "outputs": [],
   "execution_count": 12
  },
  {
   "cell_type": "code",
   "id": "initial_id",
   "metadata": {
    "collapsed": true,
    "ExecuteTime": {
     "end_time": "2024-10-29T12:35:44.289280Z",
     "start_time": "2024-10-29T12:35:44.147498Z"
    }
   },
   "source": [
    "def fetch_hacker_news(\n",
    "        scope: str, \n",
    "        count: int = 10,\n",
    "        max_comments: int = 10,\n",
    "        truncate_words: int = 1000,) -> list[dict]:\n",
    "    with httpx.Client() as client:\n",
    "        if scope == \"hottest\":\n",
    "            url = \"https://hacker-news.firebaseio.com/v0/topstories.json\"\n",
    "        elif scope == \"newest\":\n",
    "            url = \"https://hacker-news.firebaseio.com/v0/newstories.json\"\n",
    "        else:\n",
    "            raise ValueError(f\"Unknown scope: {scope}\")\n",
    "\n",
    "        response = client.get(url)\n",
    "        stories = response.json()[:count]  # Get top n stories\n",
    "        \n",
    "        stories_to_download = get_stories_to_download(stories, source=\"Hacker News\") \n",
    "        \n",
    "        news_items = []\n",
    "        for story_id in stories_to_download:\n",
    "            story_url = f\"https://hacker-news.firebaseio.com/v0/item/{story_id}.json\"\n",
    "            story_response = client.get(story_url)\n",
    "            story_data = story_response.json()\n",
    "            \n",
    "            item_url = story_data.get(\"url\", f\"https://news.ycombinator.com/item?id={story_id}\")\n",
    "            \n",
    "            meta_description = fetch_meta_description(client, item_url)\n",
    "            \n",
    "            content = story_data.get(\"text\")\n",
    "            if not content and item_url:\n",
    "                try:\n",
    "                    content = fetch_wayback_content(client, item_url, truncate_words=truncate_words)\n",
    "                    if not content:\n",
    "                        content = fetch_url_content(client, item_url, truncate_words=truncate_words)\n",
    "                except ContentIsVideoError:\n",
    "                    pass\n",
    "                except Exception as exc:\n",
    "                    # print(f\"Error fetching content for {item_url}: {str(exc)}, fallback to Wayback Machine.\")\n",
    "                    pass \n",
    "                \n",
    "                if not content:\n",
    "                    content = story_data.get(\"title\")\n",
    "            \n",
    "            comments = fetch_hn_comments(client, story_id, max_comments)\n",
    "            \n",
    "            news_items.append({\n",
    "                \"original_id\": story_id,\n",
    "                \"title\": story_data[\"title\"],\n",
    "                \"url\": item_url,\n",
    "                \"score\": story_data[\"score\"],\n",
    "                \"timestamp\": datetime.fromtimestamp(story_data[\"time\"]).isoformat(),\n",
    "                \"source\": \"Hacker News\",\n",
    "                \"content\": content,\n",
    "                \"comments\": comments,\n",
    "                \"description\": meta_description,\n",
    "                \"document_uid\": generate_document_id(item_url, content),\n",
    "            })\n",
    "        \n",
    "        return news_items\n"
   ],
   "outputs": [],
   "execution_count": 13
  },
  {
   "metadata": {
    "ExecuteTime": {
     "end_time": "2024-10-29T12:35:44.433504Z",
     "start_time": "2024-10-29T12:35:44.321511Z"
    }
   },
   "cell_type": "code",
   "source": [
    "def fetch_lobsters_comments_and_content(client, short_id, max_comments=10):\n",
    "    url = f\"https://lobste.rs/s/{short_id}.json\"\n",
    "    response = client.get(url)\n",
    "    story_data = response.json()\n",
    "    \n",
    "    comments = []\n",
    "    for comment in story_data.get(\"comments\", [])[:max_comments]:\n",
    "        comments.append({\n",
    "            \"author\": comment.get(\"commenting_user\", {}),\n",
    "            \"text\": comment[\"comment\"],\n",
    "            \"time\": comment[\"created_at\"]\n",
    "        })\n",
    "    \n",
    "    # Check if it's a text post and extract the content\n",
    "    content = None\n",
    "    if story_data.get(\"url\") == f\"https://lobste.rs/s/{short_id}\":\n",
    "        content = story_data.get(\"description\", \"\")\n",
    "        # Convert HTML to plain text\n",
    "        soup = BeautifulSoup(content, 'html.parser')\n",
    "        content = soup.get_text()\n",
    "    \n",
    "    return comments, content"
   ],
   "id": "3bb86b9368dd97dc",
   "outputs": [],
   "execution_count": 14
  },
  {
   "metadata": {
    "ExecuteTime": {
     "end_time": "2024-10-29T12:35:44.581478Z",
     "start_time": "2024-10-29T12:35:44.449148Z"
    }
   },
   "cell_type": "code",
   "source": [
    "def fetch_lobsters_news(\n",
    "        scope: str, \n",
    "        count: int = 10,\n",
    "        max_comments: int = 10,\n",
    "        truncate_words: int = 1000) -> list[dict]:\n",
    "    with httpx.Client() as client:\n",
    "        if scope == \"hottest\":\n",
    "            url = \"https://lobste.rs/hottest.json\"\n",
    "        elif scope == \"newest\":\n",
    "            url = \"https://lobste.rs/newest.json\"\n",
    "        else:\n",
    "            raise ValueError(f\"Unknown scope: {scope}\")\n",
    "        \n",
    "        response = client.get(url)\n",
    "        stories = response.json()[:count]  # Get top `count` stories\n",
    "        \n",
    "        stories_to_download = get_stories_to_download(stories, source=\"Lobsters\") \n",
    "        \n",
    "        news_items = []\n",
    "        for story in stories:\n",
    "            if str(story[\"short_id\"]) not in stories_to_download:\n",
    "                continue\n",
    "            \n",
    "            content = None\n",
    "            meta_description = story.get(\"description\", \"\")\n",
    "            \n",
    "            if meta_description:\n",
    "                # this is not an URL, but a text post\n",
    "                content = meta_description\n",
    "            else:\n",
    "                meta_description = fetch_meta_description(client, story[\"url\"])\n",
    "            \n",
    "            # comments, content = fetch_lobsters_comments_and_content(client, story[\"short_id\"])\n",
    "            \n",
    "            comments = fetch_lobsters_comments(client, story[\"short_id\"], max_comments)\n",
    "            \n",
    "            if not content and story[\"url\"]:\n",
    "                try:\n",
    "                    content = fetch_wayback_content(client, story[\"url\"], truncate_words=truncate_words)\n",
    "                    if not content:\n",
    "                        content = fetch_url_content(client, story[\"url\"], truncate_words=truncate_words)\n",
    "                except ContentIsVideoError:\n",
    "                    pass\n",
    "                except Exception as exc:\n",
    "                    print(f\"Error fetching content for {story['url']}: {str(exc)}, fallback to Wayback Machine.\")\n",
    "            \n",
    "            if not content:\n",
    "                content = story[\"title\"]\n",
    "            # comments = fetch_lobsters_comments(client, story[\"short_id\"])\n",
    "            \n",
    "            news_items.append({\n",
    "                \"original_id\": story[\"short_id\"],\n",
    "                \"title\": story[\"title\"],\n",
    "                \"url\": story[\"url\"],\n",
    "                \"score\": story[\"score\"],\n",
    "                \"timestamp\": story[\"created_at\"],\n",
    "                \"source\": \"Lobsters\",\n",
    "                \"content\": content,\n",
    "                \"comments\": comments,\n",
    "                \"description\": meta_description,\n",
    "                \"document_uid\": generate_document_id(story[\"url\"], content),\n",
    "            })\n",
    "        \n",
    "        return news_items"
   ],
   "id": "58f859116ee72823",
   "outputs": [],
   "execution_count": 15
  },
  {
   "metadata": {},
   "cell_type": "markdown",
   "source": [
    "If files with data do not exist, fetch initial big date dump.\n",
    "If they exist, get smaller chunks."
   ],
   "id": "8a8f416caa963ead"
  },
  {
   "metadata": {
    "ExecuteTime": {
     "end_time": "2024-10-29T12:35:44.703818Z",
     "start_time": "2024-10-29T12:35:44.591872Z"
    }
   },
   "cell_type": "code",
   "source": [
    "INIT_CHUNK_SIZE = 100\n",
    "ONGOING_CHUNK_SIZE = 20"
   ],
   "id": "101fedb45c3b276b",
   "outputs": [],
   "execution_count": 16
  },
  {
   "metadata": {
    "ExecuteTime": {
     "end_time": "2024-10-29T12:35:44.806291Z",
     "start_time": "2024-10-29T12:35:44.715466Z"
    }
   },
   "cell_type": "code",
   "source": [
    "def load_stored(file_path: str) -> list:\n",
    "    \"\"\"Load stored dumps\"\"\"\n",
    "    stored = []\n",
    "    try:\n",
    "        with open(file_path, \"r\") as fp:\n",
    "            stored = json.load(fp)\n",
    "    except (FileNotFoundError, json.JSONDecodeError):\n",
    "        pass\n",
    "    \n",
    "    return stored\n",
    "\n",
    "stored_hn = load_stored(hn_dump_file)\n",
    "stored_lr = load_stored(lr_dump_file)"
   ],
   "id": "3e7e0f0bd3f42a1a",
   "outputs": [],
   "execution_count": 17
  },
  {
   "metadata": {
    "ExecuteTime": {
     "end_time": "2024-10-29T12:35:44.914856Z",
     "start_time": "2024-10-29T12:35:44.817001Z"
    }
   },
   "cell_type": "code",
   "source": [
    "def append_news(news: list[dict], dump_file: str) -> int:\n",
    "    \"\"\"Append news to the dumped news in a file\n",
    "    \n",
    "    Returns:\n",
    "        int number of news items stored\n",
    "    \"\"\"\n",
    "    stored = load_stored(dump_file)\n",
    "\n",
    "    if isinstance(stored, list):\n",
    "        stored.extend(news)\n",
    "    else:\n",
    "        stored = news[:]\n",
    "\n",
    "    with open(dump_file, \"w\") as fp:\n",
    "        # add timestamp if not exists\n",
    "        for doc in stored:\n",
    "            if \"ingest_utctime\" not in doc:\n",
    "                doc[\"ingest_utctime\"] = int(time.time())\n",
    "\n",
    "        json.dump(stored, fp, indent=2)\n",
    "        \n",
    "    return len(stored)"
   ],
   "id": "330fedb5613db0b0",
   "outputs": [],
   "execution_count": 18
  },
  {
   "metadata": {
    "ExecuteTime": {
     "end_time": "2024-10-29T12:35:45.055876Z",
     "start_time": "2024-10-29T12:35:44.949630Z"
    }
   },
   "cell_type": "code",
   "source": [
    "is_first_run = True\n",
    "if stored_hn and stored_lr:\n",
    "    is_first_run = False"
   ],
   "id": "e450585439a9af88",
   "outputs": [],
   "execution_count": 19
  },
  {
   "metadata": {
    "ExecuteTime": {
     "end_time": "2024-10-29T12:36:56.954421Z",
     "start_time": "2024-10-29T12:35:45.093375Z"
    }
   },
   "cell_type": "code",
   "source": [
    "hn_news = fetch_hacker_news(\n",
    "    scope=\"newest\", \n",
    "    count=INIT_CHUNK_SIZE if not stored_hn else ONGOING_CHUNK_SIZE\n",
    ")\n",
    "\n",
    "print(f\"Number of downloaded HN news: {len(hn_news)}\")\n",
    "\n",
    "append_news(hn_news, hn_dump_file)"
   ],
   "id": "c983b269e7316142",
   "outputs": [
    {
     "name": "stdout",
     "output_type": "stream",
     "text": [
      "Error fetching Wayback content: Expecting value: line 1 column 1 (char 0)\n",
      "Error fetching Wayback content: Expecting value: line 1 column 1 (char 0)\n",
      "Error fetching Wayback content: Expecting value: line 1 column 1 (char 0)\n",
      "Error fetching Wayback content: YouTube video content is not available.\n",
      "Error fetching Wayback content: Expecting value: line 1 column 1 (char 0)\n",
      "Error fetching Wayback content: Expecting value: line 1 column 1 (char 0)\n",
      "Error fetching Wayback content: Expecting value: line 1 column 1 (char 0)\n",
      "Error fetching Wayback content: Expecting value: line 1 column 1 (char 0)\n",
      "Error fetching Wayback content: Expecting value: line 1 column 1 (char 0)\n",
      "Error fetching Wayback content: Expecting value: line 1 column 1 (char 0)\n",
      "Error fetching Wayback content: Expecting value: line 1 column 1 (char 0)\n",
      "Error fetching Wayback content: Expecting value: line 1 column 1 (char 0)\n",
      "Error fetching Wayback content: Expecting value: line 1 column 1 (char 0)\n",
      "Error fetching Wayback content: Expecting value: line 1 column 1 (char 0)\n",
      "Error fetching Wayback content: Expecting value: line 1 column 1 (char 0)\n",
      "Error fetching Wayback content: Expecting value: line 1 column 1 (char 0)\n",
      "Error fetching Wayback content: Expecting value: line 1 column 1 (char 0)\n",
      "Error fetching Wayback content: YouTube video content is not available.\n",
      "Error fetching Wayback content: Expecting value: line 1 column 1 (char 0)\n",
      "Error fetching Wayback content: Expecting value: line 1 column 1 (char 0)\n",
      "Number of downloaded HN news: 20\n"
     ]
    },
    {
     "data": {
      "text/plain": [
       "220"
      ]
     },
     "execution_count": 20,
     "metadata": {},
     "output_type": "execute_result"
    }
   ],
   "execution_count": 20
  },
  {
   "metadata": {
    "ExecuteTime": {
     "end_time": "2024-10-29T12:37:05.958953Z",
     "start_time": "2024-10-29T12:36:56.968605Z"
    }
   },
   "cell_type": "code",
   "source": [
    "lr_news = fetch_lobsters_news(\n",
    "    scope=\"newest\", \n",
    "    count=INIT_CHUNK_SIZE if not stored_lr else ONGOING_CHUNK_SIZE\n",
    ")\n",
    "\n",
    "print(f\"Number of downloaded LR news: {len(lr_news)}\")\n",
    "\n",
    "append_news(lr_news, lr_dump_file)\n"
   ],
   "id": "206897e0faec8f2f",
   "outputs": [
    {
     "name": "stdout",
     "output_type": "stream",
     "text": [
      "Error fetching Wayback content: Expecting value: line 1 column 1 (char 0)\n",
      "Error fetching Wayback content: Expecting value: line 1 column 1 (char 0)\n",
      "Error fetching Wayback content: Expecting value: line 1 column 1 (char 0)\n",
      "Error fetching Wayback content: Expecting value: line 1 column 1 (char 0)\n",
      "Error fetching Wayback content: Expecting value: line 1 column 1 (char 0)\n",
      "Error fetching Wayback content: YouTube video content is not available.\n",
      "Error fetching Wayback content: Expecting value: line 1 column 1 (char 0)\n",
      "Error fetching Wayback content: Expecting value: line 1 column 1 (char 0)\n",
      "Number of downloaded LR news: 8\n"
     ]
    },
    {
     "data": {
      "text/plain": [
       "70"
      ]
     },
     "execution_count": 21,
     "metadata": {},
     "output_type": "execute_result"
    }
   ],
   "execution_count": 21
  },
  {
   "metadata": {},
   "cell_type": "markdown",
   "source": "## Prepare data",
   "id": "13cc717da2cb3615"
  },
  {
   "metadata": {
    "ExecuteTime": {
     "end_time": "2024-10-29T12:37:05.998191Z",
     "start_time": "2024-10-29T12:37:05.973076Z"
    }
   },
   "cell_type": "code",
   "source": [
    "if is_first_run:\n",
    "    stored_hn = load_stored(hn_dump_file)\n",
    "    stored_lr = load_stored(lr_dump_file)\n",
    "    \n",
    "    documents = stored_hn + stored_lr\n",
    "    \n",
    "else:\n",
    "    documents = hn_news + lr_news"
   ],
   "id": "b37d021629fda6e9",
   "outputs": [],
   "execution_count": 22
  },
  {
   "metadata": {
    "ExecuteTime": {
     "end_time": "2024-10-29T12:37:06.111168Z",
     "start_time": "2024-10-29T12:37:06.015331Z"
    }
   },
   "cell_type": "code",
   "source": "len(hn_news), len(lr_news), len(documents)",
   "id": "3c75c464dda372db",
   "outputs": [
    {
     "data": {
      "text/plain": [
       "(20, 8, 28)"
      ]
     },
     "execution_count": 23,
     "metadata": {},
     "output_type": "execute_result"
    }
   ],
   "execution_count": 23
  },
  {
   "metadata": {},
   "cell_type": "markdown",
   "source": "## Derive embeddings",
   "id": "1bf69fa453c71aa2"
  },
  {
   "metadata": {
    "ExecuteTime": {
     "end_time": "2024-10-29T12:37:14.638118Z",
     "start_time": "2024-10-29T12:37:06.145124Z"
    }
   },
   "cell_type": "code",
   "source": "import embeddings",
   "id": "f2c59b19c8e5f68e",
   "outputs": [
    {
     "name": "stderr",
     "output_type": "stream",
     "text": [
      "/home/alex/projects/zoomcamp/learn-llm-rag/.venv/lib/python3.11/site-packages/transformers/tokenization_utils_base.py:1601: FutureWarning: `clean_up_tokenization_spaces` was not set. It will be set to `True` by default. This behavior will be depracted in transformers v4.45, and will be then set to `False` by default. For more details check this issue: https://github.com/huggingface/transformers/issues/31884\n",
      "  warnings.warn(\n"
     ]
    }
   ],
   "execution_count": 24
  },
  {
   "metadata": {
    "ExecuteTime": {
     "end_time": "2024-10-29T12:37:14.709372Z",
     "start_time": "2024-10-29T12:37:14.663980Z"
    }
   },
   "cell_type": "code",
   "source": [
    "embedding_dim = embeddings.get_dimensions()\n",
    "embedding_dim"
   ],
   "id": "68893a5eac2c9b4e",
   "outputs": [
    {
     "data": {
      "text/plain": [
       "768"
      ]
     },
     "execution_count": 25,
     "metadata": {},
     "output_type": "execute_result"
    }
   ],
   "execution_count": 25
  },
  {
   "metadata": {
    "ExecuteTime": {
     "end_time": "2024-10-29T12:37:14.808425Z",
     "start_time": "2024-10-29T12:37:14.737767Z"
    }
   },
   "cell_type": "code",
   "source": "len(documents)",
   "id": "137245b8d31618af",
   "outputs": [
    {
     "data": {
      "text/plain": [
       "28"
      ]
     },
     "execution_count": 26,
     "metadata": {},
     "output_type": "execute_result"
    }
   ],
   "execution_count": 26
  },
  {
   "metadata": {
    "ExecuteTime": {
     "end_time": "2024-10-29T12:37:21.960744Z",
     "start_time": "2024-10-29T12:37:14.823621Z"
    }
   },
   "cell_type": "code",
   "source": [
    "# create embeddings using the pre-trained model\n",
    "operations = []\n",
    "for doc in tqdm(documents, desc=\"Creating embeddings\"):\n",
    "    # Transforming text into an embedding using the model\n",
    "    doc[\"vector\"] = embeddings.get_embeddings(doc[\"content\"])\n",
    "    operations.append(doc)\n",
    "    \n",
    "operations[0]"
   ],
   "id": "78abbe1dc04e3986",
   "outputs": [
    {
     "data": {
      "text/plain": [
       "Creating embeddings:   0%|          | 0/28 [00:00<?, ?it/s]"
      ],
      "application/vnd.jupyter.widget-view+json": {
       "version_major": 2,
       "version_minor": 0,
       "model_id": "a8856e2ec9d2492696e6f8b936d7e901"
      }
     },
     "metadata": {},
     "output_type": "display_data"
    },
    {
     "data": {
      "text/plain": [
       "{'original_id': '41983217',\n",
       " 'title': \"Internet.nl's Website Connection Checker\",\n",
       " 'url': 'https://internet.nl/',\n",
       " 'score': 1,\n",
       " 'timestamp': '2024-10-29T13:32:51',\n",
       " 'source': 'Hacker News',\n",
       " 'content': '//matomo.internet.nl/ 1 *.internet.nl Home Modern Internet Standards provide for more reliability and further growth of the Internet. Are you using them? Test your website Modern address? Signed domain? Secure connection? Route authorisation? About the test Test your email Modern address? Anti-phishing? Secure transport? Route authorisation? About the test Test your connection Modern addresses reachable? Domain signatures validated? About the test',\n",
       " 'comments': [],\n",
       " 'description': 'Test for modern Internet Standards IPv6, DNSSEC, HTTPS, HSTS, DMARC, DKIM, SPF, STARTTLS, DANE, RPKI and security.txt',\n",
       " 'document_uid': '5d02412e26',\n",
       " 'ingest_utctime': 1730205416,\n",
       " 'vector': [0.024734877049922943,\n",
       "  -0.07642491906881332,\n",
       "  0.0172008965164423,\n",
       "  -0.018484903499484062,\n",
       "  0.02280009537935257,\n",
       "  -0.017140822485089302,\n",
       "  0.0524730384349823,\n",
       "  0.03864398971199989,\n",
       "  5.5559081374667585e-05,\n",
       "  -0.02034483477473259,\n",
       "  0.043585404753685,\n",
       "  -0.07205376774072647,\n",
       "  0.0056692687794566154,\n",
       "  0.03207998722791672,\n",
       "  0.0038302845787256956,\n",
       "  -0.02697291038930416,\n",
       "  0.012534779496490955,\n",
       "  0.016780637204647064,\n",
       "  -0.0779835432767868,\n",
       "  -0.012163875624537468,\n",
       "  0.009525492787361145,\n",
       "  0.0041816052980721,\n",
       "  0.016860898584127426,\n",
       "  -0.016389615833759308,\n",
       "  0.03229265287518501,\n",
       "  -0.010676438920199871,\n",
       "  0.016940776258707047,\n",
       "  -0.027772031724452972,\n",
       "  -0.027535714209079742,\n",
       "  -0.09513171017169952,\n",
       "  0.03517792373895645,\n",
       "  0.005166573449969292,\n",
       "  -0.00778973987326026,\n",
       "  -0.05960877239704132,\n",
       "  2.084799007207039e-06,\n",
       "  -0.029835110530257225,\n",
       "  0.031005503609776497,\n",
       "  0.0092097083106637,\n",
       "  -0.04317476972937584,\n",
       "  0.042146287858486176,\n",
       "  -0.03528836369514465,\n",
       "  0.008045429363846779,\n",
       "  -0.056210000067949295,\n",
       "  0.04748810455203056,\n",
       "  -0.018393080681562424,\n",
       "  0.00936625525355339,\n",
       "  -0.02926759235560894,\n",
       "  0.023765353485941887,\n",
       "  -0.007732092868536711,\n",
       "  0.07909318059682846,\n",
       "  0.006533403415232897,\n",
       "  0.027134453877806664,\n",
       "  0.021131426095962524,\n",
       "  0.02157553844153881,\n",
       "  -0.023844758048653603,\n",
       "  -0.007481108885258436,\n",
       "  -0.015407226979732513,\n",
       "  0.03429916128516197,\n",
       "  -0.011191929690539837,\n",
       "  0.08089741319417953,\n",
       "  0.02677418850362301,\n",
       "  -0.04078909382224083,\n",
       "  0.012282355688512325,\n",
       "  -0.004755676724016666,\n",
       "  -0.03166729211807251,\n",
       "  0.054126448929309845,\n",
       "  0.05145636945962906,\n",
       "  -0.039486050605773926,\n",
       "  -0.023868227377533913,\n",
       "  0.043998897075653076,\n",
       "  0.048442643135786057,\n",
       "  0.0308848824352026,\n",
       "  0.015059946104884148,\n",
       "  0.04368438199162483,\n",
       "  -0.03639064356684685,\n",
       "  0.012648291885852814,\n",
       "  0.015165891498327255,\n",
       "  0.003262490499764681,\n",
       "  -0.008058004081249237,\n",
       "  0.018570974469184875,\n",
       "  -0.042838841676712036,\n",
       "  -0.002426126739010215,\n",
       "  0.003107819240540266,\n",
       "  0.016538633033633232,\n",
       "  0.031623926013708115,\n",
       "  0.032960791140794754,\n",
       "  0.0010304887546226382,\n",
       "  0.03604734316468239,\n",
       "  -0.0055894250981509686,\n",
       "  -0.019493989646434784,\n",
       "  0.04316752031445503,\n",
       "  -0.042683813720941544,\n",
       "  -0.009395202621817589,\n",
       "  -0.028340809047222137,\n",
       "  0.0353347472846508,\n",
       "  -0.011121719144284725,\n",
       "  0.0012176560703665018,\n",
       "  -0.06808727234601974,\n",
       "  0.054124657064676285,\n",
       "  0.010067104361951351,\n",
       "  -0.00648750364780426,\n",
       "  0.029039936140179634,\n",
       "  0.007213209755718708,\n",
       "  -0.05164865776896477,\n",
       "  0.009111355990171432,\n",
       "  0.011951177380979061,\n",
       "  -0.050118979066610336,\n",
       "  -0.0483139269053936,\n",
       "  0.06393026560544968,\n",
       "  0.04566064104437828,\n",
       "  -0.02758379839360714,\n",
       "  -0.0049632228910923,\n",
       "  0.04855046793818474,\n",
       "  0.0413077287375927,\n",
       "  -0.03241579607129097,\n",
       "  0.01812264882028103,\n",
       "  -0.018751133233308792,\n",
       "  0.04207265377044678,\n",
       "  0.018098028376698494,\n",
       "  0.037554193288087845,\n",
       "  -0.02184654399752617,\n",
       "  -0.03802917152643204,\n",
       "  0.04450157657265663,\n",
       "  0.016535192728042603,\n",
       "  -0.091596320271492,\n",
       "  -0.013965322636067867,\n",
       "  -0.0739365816116333,\n",
       "  -0.013722424395382404,\n",
       "  -0.014780995436012745,\n",
       "  0.003180529922246933,\n",
       "  0.031206782907247543,\n",
       "  0.009998956695199013,\n",
       "  -0.00859760120511055,\n",
       "  -0.03794952481985092,\n",
       "  0.04826992005109787,\n",
       "  -0.01387677900493145,\n",
       "  -0.022548066452145576,\n",
       "  0.008657869882881641,\n",
       "  0.016635235399007797,\n",
       "  -0.03504915162920952,\n",
       "  -0.028757980093359947,\n",
       "  -0.005690300837159157,\n",
       "  0.005155176855623722,\n",
       "  0.005722097121179104,\n",
       "  -0.05402097478508949,\n",
       "  -0.0010232821805402637,\n",
       "  -0.014020014554262161,\n",
       "  0.016728105023503304,\n",
       "  -0.027291879057884216,\n",
       "  -0.03900305926799774,\n",
       "  -0.07489406317472458,\n",
       "  -0.09104834496974945,\n",
       "  -0.03951282426714897,\n",
       "  -0.0032538643572479486,\n",
       "  -0.016384482383728027,\n",
       "  -0.009518531151115894,\n",
       "  0.06473612785339355,\n",
       "  -0.05107375606894493,\n",
       "  -0.05489914119243622,\n",
       "  -0.06449708342552185,\n",
       "  -0.007422071415930986,\n",
       "  -0.03173261135816574,\n",
       "  -0.014252683147788048,\n",
       "  -0.015875371173024178,\n",
       "  0.02967936359345913,\n",
       "  0.05912644416093826,\n",
       "  0.08401817083358765,\n",
       "  0.01330995000898838,\n",
       "  -0.004839691333472729,\n",
       "  0.0022817812860012054,\n",
       "  -0.016400625929236412,\n",
       "  0.0711381658911705,\n",
       "  -0.010222932323813438,\n",
       "  -0.048690225929021835,\n",
       "  0.014868681319057941,\n",
       "  -0.0973525121808052,\n",
       "  0.04727612063288689,\n",
       "  0.002239249413833022,\n",
       "  -0.038993313908576965,\n",
       "  -0.017270373180508614,\n",
       "  0.053329210728406906,\n",
       "  -0.05258016288280487,\n",
       "  0.001672853366471827,\n",
       "  0.0007915681344456971,\n",
       "  -0.027128159999847412,\n",
       "  0.030055729672312737,\n",
       "  -0.004811151418834925,\n",
       "  0.06764998286962509,\n",
       "  0.0011013132752850652,\n",
       "  0.009132369421422482,\n",
       "  -0.023411065340042114,\n",
       "  -0.020462531596422195,\n",
       "  -0.04659995436668396,\n",
       "  0.001406878000125289,\n",
       "  0.03154430538415909,\n",
       "  -0.013507258147001266,\n",
       "  -0.027365131303668022,\n",
       "  -0.0453154593706131,\n",
       "  -0.04195888713002205,\n",
       "  0.003055903594940901,\n",
       "  -0.02122863195836544,\n",
       "  -0.03576746582984924,\n",
       "  0.02396744303405285,\n",
       "  0.007086046971380711,\n",
       "  -0.013044821098446846,\n",
       "  0.039725299924612045,\n",
       "  -0.02456611394882202,\n",
       "  -0.0045026312582194805,\n",
       "  0.05335037410259247,\n",
       "  0.04687144234776497,\n",
       "  0.022032717242836952,\n",
       "  0.045986633747816086,\n",
       "  -0.04187740758061409,\n",
       "  0.009131431579589844,\n",
       "  0.007021808531135321,\n",
       "  0.02297486551105976,\n",
       "  -0.015342301689088345,\n",
       "  -0.019461628049612045,\n",
       "  -0.017492804676294327,\n",
       "  0.07200153172016144,\n",
       "  -0.001309940475039184,\n",
       "  -0.022015495225787163,\n",
       "  -0.0028370479121804237,\n",
       "  -0.025140203535556793,\n",
       "  0.029838966205716133,\n",
       "  0.06547235697507858,\n",
       "  -0.026057330891489983,\n",
       "  0.010426083579659462,\n",
       "  -0.013408870436251163,\n",
       "  0.05367055535316467,\n",
       "  -0.039508797228336334,\n",
       "  -0.026655923575162888,\n",
       "  0.015483240596950054,\n",
       "  -0.006655676290392876,\n",
       "  -0.0009403046569786966,\n",
       "  0.07393831759691238,\n",
       "  0.01968427374958992,\n",
       "  0.07486991584300995,\n",
       "  0.05316841974854469,\n",
       "  -0.07514993846416473,\n",
       "  0.045379504561424255,\n",
       "  0.07200377434492111,\n",
       "  0.03738731890916824,\n",
       "  -0.005656605586409569,\n",
       "  0.04104987904429436,\n",
       "  -0.018355516716837883,\n",
       "  -0.016575485467910767,\n",
       "  -0.00351802003569901,\n",
       "  -0.0011623786995187402,\n",
       "  -0.013462561182677746,\n",
       "  0.034102413803339005,\n",
       "  -0.0021380907855927944,\n",
       "  -0.002180740237236023,\n",
       "  -0.0026333515997976065,\n",
       "  -0.007970361970365047,\n",
       "  0.0313134528696537,\n",
       "  -0.006751656532287598,\n",
       "  0.029604140669107437,\n",
       "  0.014286080375313759,\n",
       "  -0.02375832200050354,\n",
       "  0.02693185769021511,\n",
       "  -0.05292748287320137,\n",
       "  0.0010785250924527645,\n",
       "  0.02978435531258583,\n",
       "  0.011640841141343117,\n",
       "  -0.045816756784915924,\n",
       "  -0.026281531900167465,\n",
       "  -0.04947294294834137,\n",
       "  -0.003832111833617091,\n",
       "  -0.049779798835515976,\n",
       "  0.00978558138012886,\n",
       "  0.08393330872058868,\n",
       "  -0.025976378470659256,\n",
       "  -0.013016537763178349,\n",
       "  -0.010555248707532883,\n",
       "  0.028261765837669373,\n",
       "  0.046077847480773926,\n",
       "  0.013779295608401299,\n",
       "  -0.01670796424150467,\n",
       "  0.05009249225258827,\n",
       "  0.004907224792987108,\n",
       "  -0.037347711622714996,\n",
       "  -0.03690986707806587,\n",
       "  -0.03248013183474541,\n",
       "  -0.033816613256931305,\n",
       "  0.0063233207911252975,\n",
       "  -0.0055463723838329315,\n",
       "  -0.0033937753178179264,\n",
       "  0.007713164668530226,\n",
       "  -0.01732347346842289,\n",
       "  -0.037552524358034134,\n",
       "  -0.03747009113430977,\n",
       "  -0.021127866581082344,\n",
       "  -0.037003014236688614,\n",
       "  0.008895589970052242,\n",
       "  0.008204529993236065,\n",
       "  -0.06591957807540894,\n",
       "  0.008508739992976189,\n",
       "  0.0520385205745697,\n",
       "  0.010748152621090412,\n",
       "  -0.016706528142094612,\n",
       "  0.042143914848566055,\n",
       "  -0.0248029213398695,\n",
       "  -0.015006816945970058,\n",
       "  -0.008158822543919086,\n",
       "  -0.018153512850403786,\n",
       "  -0.007572128903120756,\n",
       "  0.020336048677563667,\n",
       "  0.018216572701931,\n",
       "  -0.019481629133224487,\n",
       "  0.02809249423444271,\n",
       "  0.0068968250416219234,\n",
       "  0.05202656611800194,\n",
       "  0.016038337722420692,\n",
       "  -0.002945417072623968,\n",
       "  0.024818457663059235,\n",
       "  0.018393224105238914,\n",
       "  0.0654979944229126,\n",
       "  -0.02306659147143364,\n",
       "  0.027562305331230164,\n",
       "  0.05069437250494957,\n",
       "  0.05328894406557083,\n",
       "  -0.06368222832679749,\n",
       "  0.0062352390959858894,\n",
       "  -0.00012423365842550993,\n",
       "  -0.019667381420731544,\n",
       "  -0.041867874562740326,\n",
       "  0.014505255036056042,\n",
       "  -0.06226471811532974,\n",
       "  -0.06880702823400497,\n",
       "  0.022087596356868744,\n",
       "  0.027025645598769188,\n",
       "  -0.049153219908475876,\n",
       "  0.020491592586040497,\n",
       "  -0.04212768003344536,\n",
       "  0.023853622376918793,\n",
       "  0.0037341141141951084,\n",
       "  -0.028821902349591255,\n",
       "  0.06726399064064026,\n",
       "  0.023647498339414597,\n",
       "  -0.012287141755223274,\n",
       "  -0.028992513194680214,\n",
       "  0.005854399409145117,\n",
       "  -0.02204478345811367,\n",
       "  0.04820917919278145,\n",
       "  0.011512525379657745,\n",
       "  -0.07065390795469284,\n",
       "  0.024001533165574074,\n",
       "  0.006698379758745432,\n",
       "  -0.004712642170488834,\n",
       "  -0.04963620752096176,\n",
       "  0.03548751398921013,\n",
       "  -0.05568141117691994,\n",
       "  0.008446209132671356,\n",
       "  0.008872022852301598,\n",
       "  -0.03877687826752663,\n",
       "  -0.033024873584508896,\n",
       "  0.019408898428082466,\n",
       "  0.051618389785289764,\n",
       "  0.049565959721803665,\n",
       "  -0.0030780609231442213,\n",
       "  -0.0252365842461586,\n",
       "  0.018512804061174393,\n",
       "  -0.006149865221232176,\n",
       "  -0.04437233507633209,\n",
       "  0.05987412482500076,\n",
       "  -0.041254594922065735,\n",
       "  -0.024915680289268494,\n",
       "  0.007500396575778723,\n",
       "  0.01427147164940834,\n",
       "  0.006475454196333885,\n",
       "  -0.030723389238119125,\n",
       "  0.06566908210515976,\n",
       "  0.008750355802476406,\n",
       "  0.020157115533947945,\n",
       "  0.05689111724495888,\n",
       "  -0.027028530836105347,\n",
       "  0.0011026246938854456,\n",
       "  -0.03261290118098259,\n",
       "  -0.0021025121677666903,\n",
       "  -0.009532737545669079,\n",
       "  0.0018707955023273826,\n",
       "  0.062344010919332504,\n",
       "  0.012629348784685135,\n",
       "  0.024362562224268913,\n",
       "  -0.026001421734690666,\n",
       "  -0.01900682970881462,\n",
       "  0.02437165379524231,\n",
       "  0.07573062926530838,\n",
       "  -0.06293802708387375,\n",
       "  0.01575077883899212,\n",
       "  0.018594063818454742,\n",
       "  0.03789491951465607,\n",
       "  0.007333097513765097,\n",
       "  0.003230711445212364,\n",
       "  0.06681226193904877,\n",
       "  0.0910591334104538,\n",
       "  0.014737574383616447,\n",
       "  0.0033659732434898615,\n",
       "  -0.005625525023788214,\n",
       "  0.01590670831501484,\n",
       "  -0.048990268260240555,\n",
       "  -0.03265004977583885,\n",
       "  0.023897511884570122,\n",
       "  -0.058012884110212326,\n",
       "  0.08348392695188522,\n",
       "  0.01016917172819376,\n",
       "  -0.014072636142373085,\n",
       "  -0.03263150155544281,\n",
       "  -0.024497585371136665,\n",
       "  0.10823430120944977,\n",
       "  -0.006159747950732708,\n",
       "  -0.023794466629624367,\n",
       "  -0.056677550077438354,\n",
       "  0.04638906568288803,\n",
       "  -0.012043206952512264,\n",
       "  -0.0034077968448400497,\n",
       "  0.006320897489786148,\n",
       "  -0.007703747134655714,\n",
       "  -0.026151126250624657,\n",
       "  0.007942376658320427,\n",
       "  -0.03977120295166969,\n",
       "  -0.019959960132837296,\n",
       "  -0.023463809862732887,\n",
       "  -0.033658046275377274,\n",
       "  -0.02761583961546421,\n",
       "  0.06540748476982117,\n",
       "  -0.018352827057242393,\n",
       "  -0.008687387220561504,\n",
       "  -0.04938400536775589,\n",
       "  -0.0184040330350399,\n",
       "  -0.011528339236974716,\n",
       "  -0.05806393548846245,\n",
       "  0.004420674405992031,\n",
       "  0.03196993097662926,\n",
       "  -0.002178485970944166,\n",
       "  0.06582514196634293,\n",
       "  0.026010120287537575,\n",
       "  -0.025203611701726913,\n",
       "  -0.03211592510342598,\n",
       "  0.018792280927300453,\n",
       "  -0.03729606792330742,\n",
       "  0.030388841405510902,\n",
       "  0.04609682783484459,\n",
       "  -0.08792377263307571,\n",
       "  -0.003735463134944439,\n",
       "  -0.012511951848864555,\n",
       "  -0.0354718416929245,\n",
       "  -0.0335284061729908,\n",
       "  -0.0005398441571742296,\n",
       "  0.005568831227719784,\n",
       "  -0.1118173897266388,\n",
       "  0.09381983429193497,\n",
       "  0.017930053174495697,\n",
       "  0.016096416860818863,\n",
       "  -0.02446644753217697,\n",
       "  -0.04630165174603462,\n",
       "  -0.01767628826200962,\n",
       "  -0.00953562930226326,\n",
       "  -0.06066402047872543,\n",
       "  -0.009699147194623947,\n",
       "  0.03643077611923218,\n",
       "  -0.04352793097496033,\n",
       "  0.0085492804646492,\n",
       "  -0.0007276233518496156,\n",
       "  -0.039634302258491516,\n",
       "  -0.04167485982179642,\n",
       "  0.021679138764739037,\n",
       "  -0.005868018604815006,\n",
       "  0.020159859210252762,\n",
       "  -0.09289377182722092,\n",
       "  -0.014840435236692429,\n",
       "  -0.051801472902297974,\n",
       "  0.021865302696824074,\n",
       "  -0.06312784552574158,\n",
       "  -0.0013416659785434604,\n",
       "  -0.020771395415067673,\n",
       "  0.05605287104845047,\n",
       "  0.052916474640369415,\n",
       "  0.013875190168619156,\n",
       "  0.0430779904127121,\n",
       "  0.023987021297216415,\n",
       "  0.031016068533062935,\n",
       "  -0.03823065012693405,\n",
       "  0.007825188338756561,\n",
       "  -0.023541299626231194,\n",
       "  0.033312901854515076,\n",
       "  0.020350823178887367,\n",
       "  0.051331762224435806,\n",
       "  -0.05722774937748909,\n",
       "  0.001895090681500733,\n",
       "  0.03176666051149368,\n",
       "  0.03230149298906326,\n",
       "  0.07687994837760925,\n",
       "  0.005942404270172119,\n",
       "  -0.0039983331225812435,\n",
       "  0.0400676392018795,\n",
       "  0.0021676504984498024,\n",
       "  -0.09059824794530869,\n",
       "  0.0019415230490267277,\n",
       "  -0.0006746480357833207,\n",
       "  0.003394417930394411,\n",
       "  -0.0038701046723872423,\n",
       "  -0.03507594019174576,\n",
       "  0.026393286883831024,\n",
       "  0.013389842584729195,\n",
       "  -0.010719112120568752,\n",
       "  -0.037478189915418625,\n",
       "  -0.028670741245150566,\n",
       "  -0.05189826339483261,\n",
       "  -0.011123046278953552,\n",
       "  -0.021787285804748535,\n",
       "  -0.027577610686421394,\n",
       "  -0.016053088009357452,\n",
       "  0.008914622478187084,\n",
       "  0.07795937359333038,\n",
       "  0.04181814566254616,\n",
       "  0.062252577394247055,\n",
       "  0.06507378071546555,\n",
       "  -0.010855503380298615,\n",
       "  0.03599574789404869,\n",
       "  -0.015835458412766457,\n",
       "  0.013760645873844624,\n",
       "  0.0068953149020671844,\n",
       "  0.003689585952088237,\n",
       "  0.031104404479265213,\n",
       "  -0.02189001627266407,\n",
       "  -0.008566726930439472,\n",
       "  0.09275516122579575,\n",
       "  -0.022873399779200554,\n",
       "  -0.03831969574093819,\n",
       "  0.013336537405848503,\n",
       "  0.007773070130497217,\n",
       "  0.03656357526779175,\n",
       "  0.019405929371714592,\n",
       "  0.057916875928640366,\n",
       "  -0.049914173781871796,\n",
       "  0.03975491225719452,\n",
       "  -0.051016177982091904,\n",
       "  -0.07855475693941116,\n",
       "  0.0488739013671875,\n",
       "  -0.008602636866271496,\n",
       "  0.040039803832769394,\n",
       "  -0.03586670011281967,\n",
       "  0.015991291031241417,\n",
       "  0.03086072951555252,\n",
       "  -0.02433105930685997,\n",
       "  -0.005907007027417421,\n",
       "  -0.007157246116548777,\n",
       "  -0.008207748644053936,\n",
       "  -0.008062298409640789,\n",
       "  -0.037923336029052734,\n",
       "  0.00010544810356805101,\n",
       "  0.052108440548181534,\n",
       "  0.006244770251214504,\n",
       "  -5.6572693361077755e-33,\n",
       "  0.006306862458586693,\n",
       "  0.016713501885533333,\n",
       "  0.025385508313775063,\n",
       "  0.009685705415904522,\n",
       "  -0.06509528309106827,\n",
       "  0.0018425151938572526,\n",
       "  -0.030798042193055153,\n",
       "  0.02899983525276184,\n",
       "  -0.07518686354160309,\n",
       "  -0.015650907531380653,\n",
       "  -0.01935230754315853,\n",
       "  0.023448580875992775,\n",
       "  0.01044688280671835,\n",
       "  0.009949927218258381,\n",
       "  -0.04142497479915619,\n",
       "  -0.0774911567568779,\n",
       "  -0.015258108265697956,\n",
       "  0.006386475171893835,\n",
       "  0.014868081547319889,\n",
       "  -0.0387885645031929,\n",
       "  0.0024298755452036858,\n",
       "  -0.029687928035855293,\n",
       "  -0.015517855994403362,\n",
       "  -0.0315459668636322,\n",
       "  -0.007412026636302471,\n",
       "  0.014877507463097572,\n",
       "  0.005684924311935902,\n",
       "  -0.022663012146949768,\n",
       "  0.04475996643304825,\n",
       "  0.036944158375263214,\n",
       "  0.017062144353985786,\n",
       "  -0.042082563042640686,\n",
       "  0.006748715415596962,\n",
       "  -0.025391103699803352,\n",
       "  -0.04870131239295006,\n",
       "  0.025543181225657463,\n",
       "  -0.038773443549871445,\n",
       "  0.01693306677043438,\n",
       "  0.04841877892613411,\n",
       "  0.04830900952219963,\n",
       "  0.05767812579870224,\n",
       "  -0.03343291953206062,\n",
       "  0.004542811773717403,\n",
       "  -0.008669156581163406,\n",
       "  -0.04557705298066139,\n",
       "  0.002841201378032565,\n",
       "  -0.03649599850177765,\n",
       "  0.04083267226815224,\n",
       "  -0.035423994064331055,\n",
       "  0.036349933594465256,\n",
       "  0.021897176280617714,\n",
       "  -0.04540858417749405,\n",
       "  -0.042284056544303894,\n",
       "  0.0873965173959732,\n",
       "  -0.0003975534928031266,\n",
       "  0.001135398168116808,\n",
       "  -0.00013351053348742425,\n",
       "  -0.04218510910868645,\n",
       "  -0.0463256761431694,\n",
       "  -0.014254077337682247,\n",
       "  -0.0275498665869236,\n",
       "  -0.050833020359277725,\n",
       "  0.012777972966432571,\n",
       "  -0.01234372053295374,\n",
       "  -0.07983739674091339,\n",
       "  -0.018042057752609253,\n",
       "  -0.03932209312915802,\n",
       "  0.015270249918103218,\n",
       "  0.013039628975093365,\n",
       "  0.033817827701568604,\n",
       "  0.05504667013883591,\n",
       "  0.012625867500901222,\n",
       "  -0.02434554323554039,\n",
       "  -0.021286839619278908,\n",
       "  -0.07927259057760239,\n",
       "  -0.056309979408979416,\n",
       "  -0.004704587161540985,\n",
       "  0.02119402587413788,\n",
       "  0.04344109818339348,\n",
       "  0.03460307791829109,\n",
       "  0.08660797029733658,\n",
       "  -0.0485570952296257,\n",
       "  0.014214109629392624,\n",
       "  -0.000661654572468251,\n",
       "  -0.003341004019603133,\n",
       "  -0.008382446132600307,\n",
       "  -0.020036108791828156,\n",
       "  -0.06178024411201477,\n",
       "  0.030677910894155502,\n",
       "  -0.027244849130511284,\n",
       "  0.0571465902030468,\n",
       "  0.03866012021899223,\n",
       "  0.011932551860809326,\n",
       "  -0.02745356783270836,\n",
       "  -0.011338561773300171,\n",
       "  -0.04204842075705528,\n",
       "  -0.038690365850925446,\n",
       "  0.07281169295310974,\n",
       "  0.025221090763807297,\n",
       "  -0.026533691212534904,\n",
       "  0.037312645465135574,\n",
       "  -0.028937987983226776,\n",
       "  -0.06649437546730042,\n",
       "  0.02414872497320175,\n",
       "  0.015964966267347336,\n",
       "  -0.005248170346021652,\n",
       "  -0.009057764895260334,\n",
       "  0.012640111148357391,\n",
       "  -0.029980547726154327,\n",
       "  0.006280933041125536,\n",
       "  0.00041432055877521634,\n",
       "  0.006527320481836796,\n",
       "  0.05747003108263016,\n",
       "  -0.03154926747083664,\n",
       "  -0.02333039790391922,\n",
       "  0.0328594371676445,\n",
       "  0.02965201437473297,\n",
       "  0.056472815573215485,\n",
       "  0.022428154945373535,\n",
       "  -0.02109486609697342,\n",
       "  0.005745138507336378,\n",
       "  -0.007655728608369827,\n",
       "  0.046223822981119156,\n",
       "  0.02225605398416519,\n",
       "  -0.0034647604916244745,\n",
       "  0.0027856212109327316,\n",
       "  -0.03957565501332283,\n",
       "  0.05041827633976936,\n",
       "  0.03290514275431633,\n",
       "  -0.010702965781092644,\n",
       "  0.008401982486248016,\n",
       "  -0.021010980010032654,\n",
       "  2.7429788929111965e-07,\n",
       "  -0.0016453139251098037,\n",
       "  0.08083587884902954,\n",
       "  0.007244484964758158,\n",
       "  0.02792772464454174,\n",
       "  -0.00487632816657424,\n",
       "  -0.014662970788776875,\n",
       "  -0.0404980406165123,\n",
       "  -0.008298121392726898,\n",
       "  -0.047388579696416855,\n",
       "  0.08416921645402908,\n",
       "  -0.007244856562465429,\n",
       "  -0.07256147265434265,\n",
       "  -0.020239226520061493,\n",
       "  0.016564717516303062,\n",
       "  -0.048896584659814835,\n",
       "  -0.07257422059774399,\n",
       "  -0.026034899055957794,\n",
       "  -0.047277990728616714,\n",
       "  -0.03391867130994797,\n",
       "  0.008757690899074078,\n",
       "  0.04641459882259369,\n",
       "  0.01363311242312193,\n",
       "  0.02275944873690605,\n",
       "  0.049955982714891434,\n",
       "  0.014542424120008945,\n",
       "  -0.05131562426686287,\n",
       "  0.02661537565290928,\n",
       "  -0.013600654900074005,\n",
       "  0.01009223610162735,\n",
       "  -0.05328141897916794,\n",
       "  0.01952623762190342,\n",
       "  0.048657115548849106,\n",
       "  0.04218117520213127,\n",
       "  0.002250328194350004,\n",
       "  0.05125227943062782,\n",
       "  -0.034775689244270325,\n",
       "  -0.043853260576725006,\n",
       "  0.029396478086709976,\n",
       "  0.03514204919338226,\n",
       "  0.03082277625799179,\n",
       "  -0.011929157190024853,\n",
       "  -0.0882873386144638,\n",
       "  0.057354193180799484,\n",
       "  -0.010544470511376858,\n",
       "  0.034066736698150635,\n",
       "  0.08422792702913284,\n",
       "  -0.002647117478772998,\n",
       "  0.004016459453850985,\n",
       "  -0.03387368842959404,\n",
       "  -0.04507061839103699,\n",
       "  0.03469406068325043,\n",
       "  -0.029265014454722404,\n",
       "  -0.02780413255095482,\n",
       "  -0.007598645519465208,\n",
       "  -0.011956130154430866,\n",
       "  -0.0333980917930603,\n",
       "  0.028089307248592377,\n",
       "  0.04225826635956764,\n",
       "  0.034189432859420776,\n",
       "  0.053311169147491455,\n",
       "  0.00022961304057389498,\n",
       "  -0.021748460829257965,\n",
       "  0.040062036365270615,\n",
       "  0.03399015590548515,\n",
       "  0.05546855181455612,\n",
       "  0.0364343635737896,\n",
       "  -0.04155528545379639,\n",
       "  2.675687562401798e-34,\n",
       "  -0.025470076128840446,\n",
       "  0.004490826278924942,\n",
       "  0.03573417291045189,\n",
       "  0.02063802443444729,\n",
       "  -0.0008503488497808576,\n",
       "  -0.021806759759783745,\n",
       "  0.03355357050895691,\n",
       "  -0.03438479080796242,\n",
       "  -0.03225383535027504,\n",
       "  0.00958575215190649,\n",
       "  0.024806441739201546]}"
      ]
     },
     "execution_count": 27,
     "metadata": {},
     "output_type": "execute_result"
    }
   ],
   "execution_count": 27
  },
  {
   "metadata": {
    "ExecuteTime": {
     "end_time": "2024-10-29T12:37:22.028039Z",
     "start_time": "2024-10-29T12:37:21.983172Z"
    }
   },
   "cell_type": "code",
   "source": "len(operations)",
   "id": "a20f7f0e2778542e",
   "outputs": [
    {
     "data": {
      "text/plain": [
       "28"
      ]
     },
     "execution_count": 28,
     "metadata": {},
     "output_type": "execute_result"
    }
   ],
   "execution_count": 28
  },
  {
   "metadata": {},
   "cell_type": "markdown",
   "source": "## Store embeddings",
   "id": "244ab362741cfb99"
  },
  {
   "metadata": {
    "ExecuteTime": {
     "end_time": "2024-10-29T12:37:22.182043Z",
     "start_time": "2024-10-29T12:37:22.043251Z"
    }
   },
   "cell_type": "code",
   "source": [
    "MAX_CONTENT_VECTORIZED = 1000 * 5 # take approx all the saved text\n",
    "collection_name = \"llm_summarizer_poc\"\n",
    "collection_db_path = \"./milvus_summarizer.db\""
   ],
   "id": "72ae851c5247a272",
   "outputs": [],
   "execution_count": 29
  },
  {
   "metadata": {
    "ExecuteTime": {
     "end_time": "2024-10-29T12:37:23.809213Z",
     "start_time": "2024-10-29T12:37:22.249350Z"
    }
   },
   "cell_type": "code",
   "source": [
    "from vectordb import MilvusClientFix, create_schema, create_index_params\n",
    "\n",
    "milvus_client = MilvusClientFix.get_instance(collection_db_path)\n"
   ],
   "id": "4e1ef3ca7adb6387",
   "outputs": [],
   "execution_count": 30
  },
  {
   "metadata": {
    "ExecuteTime": {
     "end_time": "2024-10-29T12:37:23.873374Z",
     "start_time": "2024-10-29T12:37:23.828786Z"
    }
   },
   "cell_type": "code",
   "source": [
    "if is_first_run and milvus_client.has_collection(collection_name):\n",
    "    milvus_client.drop_collection(collection_name)"
   ],
   "id": "d9eac159d072d6ee",
   "outputs": [],
   "execution_count": 31
  },
  {
   "metadata": {
    "ExecuteTime": {
     "end_time": "2024-10-29T12:37:25.579004Z",
     "start_time": "2024-10-29T12:37:23.891241Z"
    }
   },
   "cell_type": "code",
   "source": [
    "\n",
    "milvus_client.create_collection(\n",
    "    collection_name=collection_name,\n",
    "    dimension=embedding_dim,\n",
    "    schema=create_schema(\"LLM Summarizer PoC\", embedding_dim, MAX_CONTENT_VECTORIZED),\n",
    "    index_params=create_index_params(milvus_client),\n",
    "    metric_type=\"IP\",  # Inner product distance\n",
    "    consistency_level=\"Strong\",  # Strong consistency level\n",
    ")"
   ],
   "id": "896f55eb61375c2a",
   "outputs": [],
   "execution_count": 32
  },
  {
   "metadata": {
    "ExecuteTime": {
     "end_time": "2024-10-29T12:37:25.656801Z",
     "start_time": "2024-10-29T12:37:25.617360Z"
    }
   },
   "cell_type": "code",
   "source": [
    "# refactor operations to match the schema\n",
    "operations = [\n",
    "    {\n",
    "        \"document_uid\": doc[\"document_uid\"],\n",
    "        \"text\": doc[\"content\"],\n",
    "        \"ingest_utctime\": doc[\"ingest_utctime\"],\n",
    "        \"vector\": doc[\"vector\"]\n",
    "    }\n",
    "    for doc in operations\n",
    "]"
   ],
   "id": "f8d8b96a9ce2f779",
   "outputs": [],
   "execution_count": 33
  },
  {
   "metadata": {
    "ExecuteTime": {
     "end_time": "2024-10-29T12:37:26.689223Z",
     "start_time": "2024-10-29T12:37:25.672593Z"
    }
   },
   "cell_type": "code",
   "source": "milvus_client.insert(collection_name=collection_name, data=operations)",
   "id": "2fce908c96099158",
   "outputs": [
    {
     "data": {
      "text/plain": [
       "{'insert_count': 28, 'ids': ['5d02412e26', '0f55c8f9d5', 'c1e854bf8b', '2a53d15402', 'dfda474c05', '07bfb36abf', 'a12f183a95', 'f68851a1a3', '7009f88d74', '05f9ee8312', '25a5677797', '46157be0e5', 'ec824f74e6', '2864ecf2bc', '54c8c460ec', '258f43d72b', 'c69ecb53ea', '5b9c8a5415', '3f43861a6e', '371a65e5b3', '983e766483', 'eabc60d283', '65c0f20f8e', '9af020bd53', '5b864236bb', '29bbc787c6', '971589a11c', '6e93c4728c'], 'cost': 0}"
      ]
     },
     "execution_count": 34,
     "metadata": {},
     "output_type": "execute_result"
    }
   ],
   "execution_count": 34
  },
  {
   "metadata": {
    "ExecuteTime": {
     "end_time": "2024-10-29T12:37:26.777855Z",
     "start_time": "2024-10-29T12:37:26.735307Z"
    }
   },
   "cell_type": "code",
   "source": "milvus_client.close()",
   "id": "621854827baeac61",
   "outputs": [],
   "execution_count": 35
  },
  {
   "metadata": {},
   "cell_type": "markdown",
   "source": "## Complete the ingestion and provide stats",
   "id": "a79203d4ee9773b5"
  },
  {
   "metadata": {
    "ExecuteTime": {
     "end_time": "2024-10-29T12:37:26.897176Z",
     "start_time": "2024-10-29T12:37:26.796154Z"
    }
   },
   "cell_type": "code",
   "source": [
    "stored_hn = load_stored(hn_dump_file)\n",
    "stored_lr = load_stored(lr_dump_file)"
   ],
   "id": "3945a15dbbe0793c",
   "outputs": [],
   "execution_count": 36
  },
  {
   "metadata": {
    "ExecuteTime": {
     "end_time": "2024-10-29T12:37:26.984848Z",
     "start_time": "2024-10-29T12:37:26.914589Z"
    }
   },
   "cell_type": "code",
   "source": [
    "completed_at = time.time()\n",
    "\n",
    "time_spent = (completed_at - started_at)\n",
    "\n",
    "print(f\"Completed at {datetime.now()}, execution took ~{int(time_spent / 60)} min\")\n",
    "print(f\"Number of stored HN entries: {len(stored_hn)}\")\n",
    "print(f\"Number of stored Lobste.rs entries: {len(stored_lr)}\")"
   ],
   "id": "49bc81f42f4214f7",
   "outputs": [
    {
     "name": "stdout",
     "output_type": "stream",
     "text": [
      "Completed at 2024-10-29 13:37:26.982016, execution took ~1 min\n",
      "Number of stored HN entries: 220\n",
      "Number of stored Lobste.rs entries: 70\n"
     ]
    }
   ],
   "execution_count": 37
  }
 ],
 "metadata": {
  "kernelspec": {
   "display_name": "Python 3",
   "language": "python",
   "name": "python3"
  },
  "language_info": {
   "codemirror_mode": {
    "name": "ipython",
    "version": 2
   },
   "file_extension": ".py",
   "mimetype": "text/x-python",
   "name": "python",
   "nbconvert_exporter": "python",
   "pygments_lexer": "ipython2",
   "version": "2.7.6"
  }
 },
 "nbformat": 4,
 "nbformat_minor": 5
}
