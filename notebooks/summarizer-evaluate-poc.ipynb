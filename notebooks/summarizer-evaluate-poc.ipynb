{
 "cells": [
  {
   "metadata": {},
   "cell_type": "markdown",
   "source": "# Summarizer - Evaluate - Proof of Concept",
   "id": "895b241e7f0998c8"
  },
  {
   "metadata": {
    "ExecuteTime": {
     "end_time": "2024-10-29T12:37:33.145623Z",
     "start_time": "2024-10-29T12:37:33.127178Z"
    }
   },
   "cell_type": "code",
   "source": [
    "%load_ext autoreload\n",
    "\n",
    "%autoreload 2"
   ],
   "id": "ed9ce12e2eee602a",
   "outputs": [],
   "execution_count": 1
  },
  {
   "metadata": {
    "ExecuteTime": {
     "end_time": "2024-10-29T12:37:39.513325Z",
     "start_time": "2024-10-29T12:37:33.327852Z"
    }
   },
   "cell_type": "code",
   "source": [
    "import json\n",
    "import time\n",
    "from datetime import datetime, timedelta\n",
    "from pathlib import Path\n",
    "\n",
    "import pandas as pd\n",
    "from dotenv import load_dotenv\n",
    "from openai import OpenAI\n",
    "from tqdm.auto import tqdm\n",
    "\n",
    "from llm import openai_llm, extract_from_llm_output\n",
    "from vectordb import (\n",
    "    MilvusClientFix,\n",
    "    create_schema,\n",
    "    create_index_params,\n",
    ")\n"
   ],
   "id": "1d6474396de14e43",
   "outputs": [
    {
     "name": "stderr",
     "output_type": "stream",
     "text": [
      "/home/alex/projects/zoomcamp/learn-llm-rag/.venv/lib/python3.11/site-packages/transformers/tokenization_utils_base.py:1601: FutureWarning: `clean_up_tokenization_spaces` was not set. It will be set to `True` by default. This behavior will be depracted in transformers v4.45, and will be then set to `False` by default. For more details check this issue: https://github.com/huggingface/transformers/issues/31884\n",
      "  warnings.warn(\n"
     ]
    }
   ],
   "execution_count": 2
  },
  {
   "metadata": {
    "ExecuteTime": {
     "end_time": "2024-10-29T12:37:39.578581Z",
     "start_time": "2024-10-29T12:37:39.537345Z"
    }
   },
   "cell_type": "code",
   "source": "nb_path = Path()",
   "id": "f7fd4493ffaed5db",
   "outputs": [],
   "execution_count": 3
  },
  {
   "metadata": {
    "ExecuteTime": {
     "end_time": "2024-10-29T12:37:39.701465Z",
     "start_time": "2024-10-29T12:37:39.602601Z"
    }
   },
   "cell_type": "code",
   "source": "load_dotenv(nb_path / \"../.env\", verbose=True)",
   "id": "584c52a3f245c4d6",
   "outputs": [
    {
     "data": {
      "text/plain": [
       "True"
      ]
     },
     "execution_count": 4,
     "metadata": {},
     "output_type": "execute_result"
    }
   ],
   "execution_count": 4
  },
  {
   "metadata": {
    "ExecuteTime": {
     "end_time": "2024-10-29T12:37:39.804316Z",
     "start_time": "2024-10-29T12:37:39.743182Z"
    }
   },
   "cell_type": "code",
   "source": [
    "hn_dump_file = \"hn_news.json\"\n",
    "lr_dump_file = \"lr_news.json\""
   ],
   "id": "c62c02483daf2eb2",
   "outputs": [],
   "execution_count": 5
  },
  {
   "metadata": {
    "ExecuteTime": {
     "end_time": "2024-10-29T12:37:39.915769Z",
     "start_time": "2024-10-29T12:37:39.810029Z"
    }
   },
   "cell_type": "code",
   "source": "started_at = time.time()",
   "id": "c6998be176494492",
   "outputs": [],
   "execution_count": 6
  },
  {
   "metadata": {},
   "cell_type": "markdown",
   "source": "## Prepare data",
   "id": "13cc717da2cb3615"
  },
  {
   "metadata": {
    "ExecuteTime": {
     "end_time": "2024-10-29T12:37:40.025682Z",
     "start_time": "2024-10-29T12:37:39.946252Z"
    }
   },
   "cell_type": "code",
   "source": [
    "def load_stored(file_path: str) -> list:\n",
    "    stored = []\n",
    "    try:\n",
    "        with open(file_path, \"r\") as fp:\n",
    "            stored = json.load(fp)\n",
    "    except (FileNotFoundError, json.JSONDecodeError):\n",
    "        pass\n",
    "    \n",
    "    return stored\n",
    "\n",
    "stored_hn = load_stored(hn_dump_file)\n",
    "stored_lr = load_stored(lr_dump_file)"
   ],
   "id": "f13a31a702025b1b",
   "outputs": [],
   "execution_count": 7
  },
  {
   "metadata": {
    "ExecuteTime": {
     "end_time": "2024-10-29T12:37:40.154351Z",
     "start_time": "2024-10-29T12:37:40.040349Z"
    }
   },
   "cell_type": "code",
   "source": "stored_documents = stored_hn + stored_lr",
   "id": "f08653e784a7fbc2",
   "outputs": [],
   "execution_count": 8
  },
  {
   "metadata": {},
   "cell_type": "markdown",
   "source": "## Derive embeddings",
   "id": "1bf69fa453c71aa2"
  },
  {
   "metadata": {
    "ExecuteTime": {
     "end_time": "2024-10-29T12:37:40.274229Z",
     "start_time": "2024-10-29T12:37:40.182639Z"
    }
   },
   "cell_type": "code",
   "source": "import embeddings",
   "id": "f2c59b19c8e5f68e",
   "outputs": [],
   "execution_count": 9
  },
  {
   "metadata": {
    "ExecuteTime": {
     "end_time": "2024-10-29T12:37:40.386677Z",
     "start_time": "2024-10-29T12:37:40.298931Z"
    }
   },
   "cell_type": "code",
   "source": [
    "embedding_dim = embeddings.get_dimensions()\n",
    "embedding_dim"
   ],
   "id": "68893a5eac2c9b4e",
   "outputs": [
    {
     "data": {
      "text/plain": [
       "768"
      ]
     },
     "execution_count": 10,
     "metadata": {},
     "output_type": "execute_result"
    }
   ],
   "execution_count": 10
  },
  {
   "metadata": {},
   "cell_type": "markdown",
   "source": "## LLM operations",
   "id": "244ab362741cfb99"
  },
  {
   "metadata": {
    "ExecuteTime": {
     "end_time": "2024-10-29T12:37:40.552878Z",
     "start_time": "2024-10-29T12:37:40.419300Z"
    }
   },
   "cell_type": "code",
   "source": "openai_client = OpenAI()",
   "id": "ba6000f5ff0086cd",
   "outputs": [],
   "execution_count": 11
  },
  {
   "metadata": {},
   "cell_type": "markdown",
   "source": "For every relevant fragment find most related documents from the whole history and provide a perspective on the topic.\n",
   "id": "27f4ca2873ba86a5"
  },
  {
   "metadata": {},
   "cell_type": "markdown",
   "source": [
    "## Build ground truth dataset\n",
    "That needs to be run only once to build the dataset."
   ],
   "id": "920421c7dfc3b89a"
  },
  {
   "metadata": {
    "ExecuteTime": {
     "end_time": "2024-10-29T12:37:40.599020Z",
     "start_time": "2024-10-29T12:37:40.565548Z"
    }
   },
   "cell_type": "code",
   "source": "import random",
   "id": "46f908d6f7dfb9ef",
   "outputs": [],
   "execution_count": 12
  },
  {
   "metadata": {
    "ExecuteTime": {
     "end_time": "2024-10-29T12:37:40.716093Z",
     "start_time": "2024-10-29T12:37:40.616144Z"
    }
   },
   "cell_type": "code",
   "source": [
    "ground_truth_filename = \"summarizer_ground_truth.json\"\n",
    "eval_subset_filename = \"summarizer_eval_subset.json\""
   ],
   "id": "5cf9de6d5a9e33d",
   "outputs": [],
   "execution_count": 13
  },
  {
   "metadata": {},
   "cell_type": "markdown",
   "source": "Take a subset of stored data, summarize each item using LLM into short tag-like strings, then map summaries to original IDs.",
   "id": "37e6c6bc8ff2dc9"
  },
  {
   "metadata": {
    "ExecuteTime": {
     "end_time": "2024-10-29T12:37:40.853695Z",
     "start_time": "2024-10-29T12:37:40.751261Z"
    }
   },
   "cell_type": "code",
   "source": [
    "ground_truth_data = load_stored(ground_truth_filename)\n",
    "eval_subset = load_stored(eval_subset_filename)\n",
    "\n",
    "NUM_GROUND_TRUTH = 50\n",
    "\n",
    "if not eval_subset:\n",
    "    samples = random.sample(stored_documents, NUM_GROUND_TRUTH)\n",
    "    \n",
    "    uids = []\n",
    "    \n",
    "    # leave only unique fields\n",
    "    for sample in samples:\n",
    "        if sample[\"document_uid\"] not in uids:\n",
    "            uids.append(sample[\"document_uid\"])\n",
    "            eval_subset.append(sample)\n",
    "            \n",
    "    with open(eval_subset_filename, \"w\") as fp:\n",
    "        json.dump(eval_subset, fp, indent=2)\n"
   ],
   "id": "a0bf548b82c4401d",
   "outputs": [],
   "execution_count": 14
  },
  {
   "metadata": {},
   "cell_type": "markdown",
   "source": "Put subset of data into the vector DB for evaluation",
   "id": "e59c25eaaa81b8b5"
  },
  {
   "metadata": {
    "ExecuteTime": {
     "end_time": "2024-10-29T12:37:42.108771Z",
     "start_time": "2024-10-29T12:37:40.891937Z"
    }
   },
   "cell_type": "code",
   "source": [
    "collection_name = \"llm_summarizer_eval\"\n",
    "collection_db_path = \"./milvus_summarizer_eval.db\"\n",
    "MAX_CONTENT_VECTORIZED = 5 * 1000\n",
    "\n",
    "milvus_client = MilvusClientFix.get_instance(collection_db_path)\n",
    "\n",
    "if milvus_client.has_collection(collection_name):\n",
    "    milvus_client.drop_collection(collection_name)"
   ],
   "id": "c7fe46d587a8c1b9",
   "outputs": [],
   "execution_count": 15
  },
  {
   "metadata": {
    "ExecuteTime": {
     "end_time": "2024-10-29T12:37:44.183282Z",
     "start_time": "2024-10-29T12:37:42.125834Z"
    }
   },
   "cell_type": "code",
   "source": [
    "milvus_client.create_collection(\n",
    "    collection_name=collection_name,\n",
    "    dimension=embedding_dim,\n",
    "    schema=create_schema(\"LLM Summarizer Evaluation\", embedding_dim, MAX_CONTENT_VECTORIZED),\n",
    "    index_params=create_index_params(milvus_client),\n",
    "    metric_type=\"IP\",  # Inner product distance\n",
    "    consistency_level=\"Strong\",  # Strong consistency level\n",
    ")"
   ],
   "id": "6573f2f65f881e69",
   "outputs": [],
   "execution_count": 16
  },
  {
   "metadata": {
    "ExecuteTime": {
     "end_time": "2024-10-29T12:38:01.373442Z",
     "start_time": "2024-10-29T12:37:44.229960Z"
    }
   },
   "cell_type": "code",
   "source": [
    "to_insert = []\n",
    "for doc in tqdm(eval_subset, desc=\"Creating embeddings for evaluation\"):\n",
    "    # Transforming text into an embedding using the model\n",
    "    doc[\"text\"] = doc[\"content\"]\n",
    "    doc[\"vector\"] = embeddings.get_embeddings(doc[\"content\"])\n",
    "    to_insert.append(doc)"
   ],
   "id": "f77a5603fe700f1a",
   "outputs": [
    {
     "data": {
      "text/plain": [
       "Creating embeddings for evaluation:   0%|          | 0/50 [00:00<?, ?it/s]"
      ],
      "application/vnd.jupyter.widget-view+json": {
       "version_major": 2,
       "version_minor": 0,
       "model_id": "7688c71102cc4b90873078203adb0cc1"
      }
     },
     "metadata": {},
     "output_type": "display_data"
    }
   ],
   "execution_count": 17
  },
  {
   "metadata": {
    "ExecuteTime": {
     "end_time": "2024-10-29T12:38:01.673477Z",
     "start_time": "2024-10-29T12:38:01.393758Z"
    }
   },
   "cell_type": "code",
   "source": "milvus_client.insert(collection_name=collection_name, data=to_insert)",
   "id": "c95be34195fb28d5",
   "outputs": [
    {
     "data": {
      "text/plain": [
       "{'insert_count': 50, 'ids': ['5683cef805', 'b264c1a1eb', '818ee3f8a6', 'f1c414e08b', 'f2a0638fc2', '9a1527389d', 'aef0e04585', '9350620c94', 'f998f36cf2', '960cf152c8', '8511fd5f79', '62cce97bab', 'd54169bec5', 'e305a722f3', '605b664d56', '3bcbc4117c', 'c95147bb70', 'b73841193f', 'f17d41b63b', '28d75f0ae5', '4482a3d66d', '1739a8b952', 'd3ebf64b12', '9bf61b04fa', '99dfafee8b', 'e57a204f75', '36327d036d', 'a033a57049', 'ae81cf4fc3', 'd5d3474a2b', '7161b65a09', 'baed771279', 'd6df169c03', '21b1c97963', '3210d8a096', 'adb4c4f1f9', '3614585ef1', '74529f6553', '3f7306603b', '0b6da052f8', 'e406a7ef42', '48b7491df1', 'ad6d63cae6', 'a2342caa7f', '24fd4b247d', 'd860c358e5', '3411e55fe0', '1259195d10', 'f7b07bfcb5', '8a0faadb87'], 'cost': 0}"
      ]
     },
     "execution_count": 18,
     "metadata": {},
     "output_type": "execute_result"
    }
   ],
   "execution_count": 18
  },
  {
   "metadata": {},
   "cell_type": "markdown",
   "source": "Create ground truth dataset if not exists.",
   "id": "5247682b64c179e7"
  },
  {
   "metadata": {
    "ExecuteTime": {
     "end_time": "2024-10-29T12:38:01.843889Z",
     "start_time": "2024-10-29T12:38:01.735738Z"
    }
   },
   "cell_type": "code",
   "source": [
    "def build_query_prompt(text: str) -> str:\n",
    "    prompt_template = \"\"\"\n",
    "You're the skilled specialist. Provide one or several short summaries each from 2 to 5 words for the TEXT_FRAGMENT (like tags). \n",
    "Please disregard html tags or error messages in the TEXT_FRAGMENT. If the TEXT_FRAGMENT is an error message, please disregard it.\n",
    "Provide the output as json array of strings.\n",
    "\n",
    "TEXT_FRAGMENT: {text}\n",
    "\"\"\".strip()\n",
    "\n",
    "    prompt = prompt_template.format(text=text).strip()\n",
    "    return prompt"
   ],
   "id": "c7953e7a59beea14",
   "outputs": [],
   "execution_count": 19
  },
  {
   "metadata": {
    "ExecuteTime": {
     "end_time": "2024-10-29T12:38:01.950755Z",
     "start_time": "2024-10-29T12:38:01.859967Z"
    }
   },
   "cell_type": "code",
   "source": [
    "if not ground_truth_data:\n",
    "    ground_truth_data = []\n",
    "    for entry in eval_subset:\n",
    "        doc_uid = entry[\"document_uid\"]\n",
    "        content = entry[\"content\"]\n",
    "        \n",
    "        llm_result = openai_llm(openai_client, build_query_prompt(content))\n",
    "        queries = extract_from_llm_output(llm_result)\n",
    "        for query in queries:\n",
    "            ground_truth_data.append({\"document_uid\": doc_uid, \"query\": query})\n",
    "        \n",
    "        # to avoid LLM rate limits\n",
    "        time.sleep(5)\n",
    "        \n",
    "    with open(ground_truth_filename, \"w\") as fp:\n",
    "        json.dump(ground_truth_data, fp, indent=2)"
   ],
   "id": "8aceef4d0bda591e",
   "outputs": [],
   "execution_count": 20
  },
  {
   "metadata": {
    "ExecuteTime": {
     "end_time": "2024-10-29T12:38:02.062749Z",
     "start_time": "2024-10-29T12:38:01.978832Z"
    }
   },
   "cell_type": "code",
   "source": "ground_truth_data[0:3]",
   "id": "df2bacaddc09e0b1",
   "outputs": [
    {
     "data": {
      "text/plain": [
       "[{'document_uid': '5683cef805', 'query': 'Hiring importance'},\n",
       " {'document_uid': '5683cef805', 'query': 'Recruitment strategy'},\n",
       " {'document_uid': '5683cef805', 'query': \"Founders' time management\"}]"
      ]
     },
     "execution_count": 21,
     "metadata": {},
     "output_type": "execute_result"
    }
   ],
   "execution_count": 21
  },
  {
   "metadata": {},
   "cell_type": "markdown",
   "source": [
    "## Evaluate retrieval efficiency\n",
    "Prepare ground truth data. Then evaluate the retrieval efficiency."
   ],
   "id": "38ddea9b83c59516"
  },
  {
   "metadata": {
    "ExecuteTime": {
     "end_time": "2024-10-29T12:38:02.176352Z",
     "start_time": "2024-10-29T12:38:02.098049Z"
    }
   },
   "cell_type": "code",
   "source": [
    "truth_df = pd.DataFrame.from_records(ground_truth_data)\n",
    "truth_df.head()\n"
   ],
   "id": "172103a1d854b401",
   "outputs": [
    {
     "data": {
      "text/plain": [
       "  document_uid                      query\n",
       "0   5683cef805          Hiring importance\n",
       "1   5683cef805       Recruitment strategy\n",
       "2   5683cef805  Founders' time management\n",
       "3   5683cef805       Candidate experience\n",
       "4   5683cef805             Startup growth"
      ],
      "text/html": [
       "<div>\n",
       "<style scoped>\n",
       "    .dataframe tbody tr th:only-of-type {\n",
       "        vertical-align: middle;\n",
       "    }\n",
       "\n",
       "    .dataframe tbody tr th {\n",
       "        vertical-align: top;\n",
       "    }\n",
       "\n",
       "    .dataframe thead th {\n",
       "        text-align: right;\n",
       "    }\n",
       "</style>\n",
       "<table border=\"1\" class=\"dataframe\">\n",
       "  <thead>\n",
       "    <tr style=\"text-align: right;\">\n",
       "      <th></th>\n",
       "      <th>document_uid</th>\n",
       "      <th>query</th>\n",
       "    </tr>\n",
       "  </thead>\n",
       "  <tbody>\n",
       "    <tr>\n",
       "      <th>0</th>\n",
       "      <td>5683cef805</td>\n",
       "      <td>Hiring importance</td>\n",
       "    </tr>\n",
       "    <tr>\n",
       "      <th>1</th>\n",
       "      <td>5683cef805</td>\n",
       "      <td>Recruitment strategy</td>\n",
       "    </tr>\n",
       "    <tr>\n",
       "      <th>2</th>\n",
       "      <td>5683cef805</td>\n",
       "      <td>Founders' time management</td>\n",
       "    </tr>\n",
       "    <tr>\n",
       "      <th>3</th>\n",
       "      <td>5683cef805</td>\n",
       "      <td>Candidate experience</td>\n",
       "    </tr>\n",
       "    <tr>\n",
       "      <th>4</th>\n",
       "      <td>5683cef805</td>\n",
       "      <td>Startup growth</td>\n",
       "    </tr>\n",
       "  </tbody>\n",
       "</table>\n",
       "</div>"
      ]
     },
     "execution_count": 22,
     "metadata": {},
     "output_type": "execute_result"
    }
   ],
   "execution_count": 22
  },
  {
   "metadata": {
    "ExecuteTime": {
     "end_time": "2024-10-29T12:38:02.283039Z",
     "start_time": "2024-10-29T12:38:02.244715Z"
    }
   },
   "cell_type": "code",
   "source": [
    "def hit_rate(relevance_total: list[list[bool]]) -> float:\n",
    "    cnt = 0\n",
    "\n",
    "    for line in relevance_total:\n",
    "        if True in line:\n",
    "            cnt = cnt + 1\n",
    "\n",
    "    return cnt / len(relevance_total)"
   ],
   "id": "a8f6f3013913229e",
   "outputs": [],
   "execution_count": 23
  },
  {
   "metadata": {
    "ExecuteTime": {
     "end_time": "2024-10-29T12:38:02.429741Z",
     "start_time": "2024-10-29T12:38:02.381512Z"
    }
   },
   "cell_type": "code",
   "source": [
    "def mrr(relevance_total: list[list[bool]]) -> float:\n",
    "    total_score = 0.0\n",
    "\n",
    "    for line in relevance_total:\n",
    "        for rank in range(len(line)):\n",
    "            if line[rank] == True:\n",
    "                total_score = total_score + 1 / (rank + 1)\n",
    "\n",
    "    return total_score / len(relevance_total)"
   ],
   "id": "e9a4d335daf43560",
   "outputs": [],
   "execution_count": 24
  },
  {
   "metadata": {
    "ExecuteTime": {
     "end_time": "2024-10-29T12:38:02.552491Z",
     "start_time": "2024-10-29T12:38:02.440231Z"
    }
   },
   "cell_type": "code",
   "source": [
    "def evaluate(ground_truth: dict, search_function: callable) -> dict:\n",
    "    \"\"\"Evaluate the search function using the ground truth data\n",
    "    \n",
    "    Args:\n",
    "        ground_truth: list of dictionaries with 'query', and 'document_uid' keys\n",
    "        search_function: callable that takes a string query and returns a list of search results\n",
    "    \"\"\"\n",
    "    relevance_total = []\n",
    "\n",
    "    for q in tqdm(ground_truth):\n",
    "        doc_uid = q['document_uid']\n",
    "        results = search_function(q['query'])\n",
    "        relevance = [d['id'] == doc_uid for d in results[0]]\n",
    "        relevance_total.append(relevance)\n",
    "\n",
    "    return {\n",
    "        'hit_rate': hit_rate(relevance_total),\n",
    "        'mrr': mrr(relevance_total),\n",
    "    }"
   ],
   "id": "d5f026b2dbc991e6",
   "outputs": [],
   "execution_count": 25
  },
  {
   "metadata": {
    "ExecuteTime": {
     "end_time": "2024-10-29T12:38:02.717185Z",
     "start_time": "2024-10-29T12:38:02.577488Z"
    }
   },
   "cell_type": "code",
   "source": [
    "ground_truth = truth_df.to_dict(orient=\"records\")\n",
    "ground_truth"
   ],
   "id": "dad4084630505da5",
   "outputs": [
    {
     "data": {
      "text/plain": [
       "[{'document_uid': '5683cef805', 'query': 'Hiring importance'},\n",
       " {'document_uid': '5683cef805', 'query': 'Recruitment strategy'},\n",
       " {'document_uid': '5683cef805', 'query': \"Founders' time management\"},\n",
       " {'document_uid': '5683cef805', 'query': 'Candidate experience'},\n",
       " {'document_uid': '5683cef805', 'query': 'Startup growth'},\n",
       " {'document_uid': '5683cef805', 'query': 'Early recruiting value'},\n",
       " {'document_uid': '5683cef805', 'query': 'Hiring process efficiency'},\n",
       " {'document_uid': '5683cef805', 'query': 'Technical talent'},\n",
       " {'document_uid': '5683cef805', 'query': 'Team building'},\n",
       " {'document_uid': '5683cef805', 'query': 'Recruiter partnerships'},\n",
       " {'document_uid': 'b264c1a1eb', 'query': 'lab environments'},\n",
       " {'document_uid': 'b264c1a1eb', 'query': 'laptop setup'},\n",
       " {'document_uid': 'b264c1a1eb', 'query': 'software testing'},\n",
       " {'document_uid': 'b264c1a1eb', 'query': 'multi-distro support'},\n",
       " {'document_uid': 'b264c1a1eb', 'query': 'improving robustness'},\n",
       " {'document_uid': '818ee3f8a6', 'query': 'Mac hard disks revolution'},\n",
       " {'document_uid': '818ee3f8a6', 'query': 'Data fragmentation issues'},\n",
       " {'document_uid': '818ee3f8a6', 'query': 'Defragging tools history'},\n",
       " {'document_uid': '818ee3f8a6', 'query': 'Coriolis Systems shutdown'},\n",
       " {'document_uid': '818ee3f8a6', 'query': 'SSD vs hard disk performance'},\n",
       " {'document_uid': '818ee3f8a6', 'query': 'TechTool Pro features'},\n",
       " {'document_uid': '818ee3f8a6', 'query': 'File system optimization'},\n",
       " {'document_uid': '818ee3f8a6', 'query': 'HFS+ maintenance tools'},\n",
       " {'document_uid': '818ee3f8a6', 'query': 'APFS transition impacts'},\n",
       " {'document_uid': 'f1c414e08b', 'query': '2D matrix transformation'},\n",
       " {'document_uid': 'f1c414e08b', 'query': '3D surface normals'},\n",
       " {'document_uid': 'f1c414e08b', 'query': 'Vector3 class functions'},\n",
       " {'document_uid': 'f1c414e08b', 'query': 'Die rendering'},\n",
       " {'document_uid': 'f1c414e08b', 'query': '3D graphics basics'},\n",
       " {'document_uid': 'f1c414e08b', 'query': 'Cross product calculation'},\n",
       " {'document_uid': 'f1c414e08b', 'query': 'Polyhedron visualization'},\n",
       " {'document_uid': 'f1c414e08b', 'query': 'No perspective illusion'},\n",
       " {'document_uid': 'f1c414e08b', 'query': 'Lighting effects'},\n",
       " {'document_uid': 'f1c414e08b', 'query': 'Triangle-based construction'},\n",
       " {'document_uid': 'f2a0638fc2', 'query': 'Nostalgia for Commodore 64'},\n",
       " {'document_uid': 'f2a0638fc2', 'query': 'First programming experience'},\n",
       " {'document_uid': 'f2a0638fc2', 'query': 'Password protection invention'},\n",
       " {'document_uid': 'f2a0638fc2', 'query': 'Childhood coding adventures'},\n",
       " {'document_uid': 'f2a0638fc2', 'query': '90s gaming memories'},\n",
       " {'document_uid': 'aef0e04585', 'query': \"William Gibson's upbringing\"},\n",
       " {'document_uid': 'aef0e04585', 'query': 'Loss and isolation'},\n",
       " {'document_uid': 'aef0e04585', 'query': 'Science fiction influence'},\n",
       " {'document_uid': 'aef0e04585', 'query': 'Counterculture exploration'},\n",
       " {'document_uid': 'aef0e04585', 'query': 'Rise of cyberpunk'},\n",
       " {'document_uid': '9350620c94', 'query': 'Krafla volcano exploration'},\n",
       " {'document_uid': '9350620c94', 'query': 'Grindavik evacuation'},\n",
       " {'document_uid': '9350620c94', 'query': 'Iceland volcanic activity'},\n",
       " {'document_uid': '9350620c94', 'query': 'Geothermal energy potential'},\n",
       " {'document_uid': '9350620c94', 'query': 'Magma chamber drilling'},\n",
       " {'document_uid': 'f998f36cf2', 'query': 'JavaScript required'},\n",
       " {'document_uid': 'f998f36cf2', 'query': 'Cookies enabled'},\n",
       " {'document_uid': 'f998f36cf2', 'query': 'Enable JavaScript'},\n",
       " {'document_uid': 'f998f36cf2', 'query': 'Browser settings issue'},\n",
       " {'document_uid': '960cf152c8', 'query': 'Open Access Week'},\n",
       " {'document_uid': '960cf152c8', 'query': 'Support arXiv'},\n",
       " {'document_uid': '960cf152c8', 'query': 'Keep science open'},\n",
       " {'document_uid': '8511fd5f79', 'query': 'Scanning Electron Microscopy'},\n",
       " {'document_uid': '8511fd5f79', 'query': 'Academic Publications'},\n",
       " {'document_uid': '8511fd5f79', 'query': 'Electron Microscopy References'},\n",
       " {'document_uid': '8511fd5f79', 'query': 'Microscopy Society Proceedings'},\n",
       " {'document_uid': '8511fd5f79', 'query': 'Electron Microscopy Texts'},\n",
       " {'document_uid': '62cce97bab', 'query': 'action not allowed'},\n",
       " {'document_uid': '62cce97bab', 'query': 'request denied'},\n",
       " {'document_uid': '62cce97bab', 'query': 'temporary restriction'},\n",
       " {'document_uid': 'd54169bec5', 'query': 'Mars exploration failures'},\n",
       " {'document_uid': 'd54169bec5', 'query': '1990s Mars missions'},\n",
       " {'document_uid': 'd54169bec5', 'query': 'Mars Observer explosion'},\n",
       " {'document_uid': 'd54169bec5', 'query': 'Mars Global Surveyor success'},\n",
       " {'document_uid': 'd54169bec5', 'query': 'Japanese Nozomi mission'},\n",
       " {'document_uid': 'd54169bec5', 'query': 'spacecraft design challenges'},\n",
       " {'document_uid': 'd54169bec5', 'query': 'failed Mars landings'},\n",
       " {'document_uid': 'd54169bec5', 'query': 'long space missions'},\n",
       " {'document_uid': 'd54169bec5', 'query': 'failed probe attempts'},\n",
       " {'document_uid': 'e305a722f3', 'query': 'Cloudflare Services'},\n",
       " {'document_uid': 'e305a722f3', 'query': 'Global Server Network'},\n",
       " {'document_uid': 'e305a722f3', 'query': 'OpenBMC Firmware'},\n",
       " {'document_uid': 'e305a722f3', 'query': 'BMC Management'},\n",
       " {'document_uid': 'e305a722f3', 'query': 'Server Boot Process'},\n",
       " {'document_uid': 'e305a722f3', 'query': 'Remote Server Access'},\n",
       " {'document_uid': 'e305a722f3', 'query': 'Management Functions'},\n",
       " {'document_uid': 'e305a722f3', 'query': 'Power Management'},\n",
       " {'document_uid': 'e305a722f3', 'query': 'Boot Issues'},\n",
       " {'document_uid': 'e305a722f3', 'query': 'Custom Firmware Solutions'},\n",
       " {'document_uid': '605b664d56', 'query': 'Go compiler behavior'},\n",
       " {'document_uid': '605b664d56', 'query': 'Test file complications'},\n",
       " {'document_uid': '605b664d56', 'query': 'Security vulnerability risks'},\n",
       " {'document_uid': '605b664d56', 'query': 'Obfuscation techniques'},\n",
       " {'document_uid': '605b664d56', 'query': 'Malicious code hiding'},\n",
       " {'document_uid': '3bcbc4117c', 'query': 'User consent'},\n",
       " {'document_uid': '3bcbc4117c', 'query': 'Data processing'},\n",
       " {'document_uid': '3bcbc4117c', 'query': 'Cookies usage'},\n",
       " {'document_uid': '3bcbc4117c', 'query': 'Device information'},\n",
       " {'document_uid': '3bcbc4117c', 'query': 'Marketing purposes'},\n",
       " {'document_uid': '3bcbc4117c', 'query': 'User profiles'},\n",
       " {'document_uid': '3bcbc4117c', 'query': 'Statistical access'},\n",
       " {'document_uid': 'c95147bb70', 'query': 'Unique twin language'},\n",
       " {'document_uid': 'c95147bb70', 'query': 'Private speech development'},\n",
       " {'document_uid': 'c95147bb70', 'query': 'Shared verbal understanding'},\n",
       " {'document_uid': 'c95147bb70', 'query': 'Umeri language'},\n",
       " {'document_uid': 'c95147bb70', 'query': 'Twins communication bond'},\n",
       " {'document_uid': 'b73841193f', 'query': 'Golang drawbacks'},\n",
       " {'document_uid': 'b73841193f', 'query': 'Introducing Odin language'},\n",
       " {'document_uid': 'b73841193f', 'query': 'Golang vs Odin'},\n",
       " {'document_uid': 'b73841193f', 'query': 'Programming language comparison'},\n",
       " {'document_uid': 'b73841193f', 'query': 'Memory management'},\n",
       " {'document_uid': 'b73841193f', 'query': 'Error handling'},\n",
       " {'document_uid': 'b73841193f', 'query': 'Coding simplicity'},\n",
       " {'document_uid': 'b73841193f', 'query': 'Odin features'},\n",
       " {'document_uid': 'b73841193f', 'query': 'Backend development'},\n",
       " {'document_uid': 'b73841193f', 'query': 'Golang familiarity'},\n",
       " {'document_uid': 'f17d41b63b', 'query': \"Vim's Impact\"},\n",
       " {'document_uid': 'f17d41b63b', 'query': 'Programming Journey'},\n",
       " {'document_uid': 'f17d41b63b', 'query': 'Learning Curve'},\n",
       " {'document_uid': 'f17d41b63b', 'query': 'MacBook Advantage'},\n",
       " {'document_uid': 'f17d41b63b', 'query': 'Command Line Exposure'},\n",
       " {'document_uid': '28d75f0ae5', 'query': 'OpenZFS deduplication improvements'},\n",
       " {'document_uid': '28d75f0ae5', 'query': 'Fast Dedup feature'},\n",
       " {'document_uid': '28d75f0ae5', 'query': 'Dedup table mechanics'},\n",
       " {'document_uid': '28d75f0ae5', 'query': 'Traditional dedup disadvantages'},\n",
       " {'document_uid': '28d75f0ae5', 'query': 'Memory and performance issues'},\n",
       " {'document_uid': '4482a3d66d', 'query': 'Rust borrow checker comparison'},\n",
       " {'document_uid': '4482a3d66d', 'query': 'C# memory safety features'},\n",
       " {'document_uid': '4482a3d66d', 'query': 'Ref safety in C#'},\n",
       " {'document_uid': '4482a3d66d', 'query': 'Lifetime elision differences'},\n",
       " {'document_uid': '4482a3d66d', 'query': 'C# and Rust analysis'},\n",
       " {'document_uid': '1739a8b952', 'query': 'Fundamental skills'},\n",
       " {'document_uid': '1739a8b952', 'query': 'Manual testing'},\n",
       " {'document_uid': '1739a8b952', 'query': 'Edge case consideration'},\n",
       " {'document_uid': '1739a8b952', 'query': 'Change management'},\n",
       " {'document_uid': '1739a8b952', 'query': 'Stay updated'},\n",
       " {'document_uid': '1739a8b952', 'query': 'Thorough reading'},\n",
       " {'document_uid': '1739a8b952', 'query': 'Preparation for meetings'},\n",
       " {'document_uid': '1739a8b952', 'query': 'Understanding problems'},\n",
       " {'document_uid': '1739a8b952', 'query': 'Accepting uninteresting tasks'},\n",
       " {'document_uid': '1739a8b952', 'query': 'Clear bug reports'},\n",
       " {'document_uid': '1739a8b952', 'query': 'Reading error messages'},\n",
       " {'document_uid': '1739a8b952', 'query': 'Punctuality'},\n",
       " {'document_uid': '1739a8b952', 'query': 'Fix validation'},\n",
       " {'document_uid': '1739a8b952', 'query': 'Testing test cases'},\n",
       " {'document_uid': '1739a8b952', 'query': 'Follow through commitments'},\n",
       " {'document_uid': '1739a8b952', 'query': 'Requesting reviews'},\n",
       " {'document_uid': '1739a8b952', 'query': 'Bug awareness'},\n",
       " {'document_uid': '1739a8b952', 'query': 'Collaboration focus'},\n",
       " {'document_uid': 'd3ebf64b12', 'query': 'Neutron star discovery'},\n",
       " {'document_uid': 'd3ebf64b12', 'query': 'Ultra-long period magnetar'},\n",
       " {'document_uid': 'd3ebf64b12', 'query': 'Scutum constellation'},\n",
       " {'document_uid': 'd3ebf64b12', 'query': 'Radio waves emission'},\n",
       " {'document_uid': 'd3ebf64b12', 'query': 'Unusual characteristics'},\n",
       " {'document_uid': '9bf61b04fa', 'query': 'Enable JavaScript'},\n",
       " {'document_uid': '9bf61b04fa', 'query': 'Enable cookies'},\n",
       " {'document_uid': '9bf61b04fa', 'query': 'Permission required'},\n",
       " {'document_uid': '99dfafee8b', 'query': 'massively multiplayer online game'},\n",
       " {'document_uid': '99dfafee8b', 'query': 'dynamic ecosystem gameplay'},\n",
       " {'document_uid': '99dfafee8b', 'query': 'species evolution mechanics'},\n",
       " {'document_uid': '99dfafee8b', 'query': 'nutrient economy'},\n",
       " {'document_uid': '99dfafee8b', 'query': 'educational strategy'},\n",
       " {'document_uid': '99dfafee8b', 'query': 'environmental events'},\n",
       " {'document_uid': '99dfafee8b', 'query': 'ecological simulation'},\n",
       " {'document_uid': 'e57a204f75', 'query': 'Enable JavaScript'},\n",
       " {'document_uid': 'e57a204f75', 'query': 'Enable cookies'},\n",
       " {'document_uid': 'e57a204f75', 'query': 'Continue browsing'},\n",
       " {'document_uid': '36327d036d', 'query': 'Commodore HHC-4'},\n",
       " {'document_uid': '36327d036d', 'query': 'Toshiba Pasopia Mini'},\n",
       " {'document_uid': '36327d036d', 'query': 'Handheld computer history'},\n",
       " {'document_uid': '36327d036d', 'query': '1980s computer innovations'},\n",
       " {'document_uid': '36327d036d', 'query': 'Portable computer developments'},\n",
       " {'document_uid': 'a033a57049', 'query': 'Song appreciation'},\n",
       " {'document_uid': 'a033a57049', 'query': 'Personal taste analysis'},\n",
       " {'document_uid': 'a033a57049', 'query': 'The Beatles insights'},\n",
       " {'document_uid': 'a033a57049', 'query': 'Greatness in music'},\n",
       " {'document_uid': 'a033a57049', 'query': 'Contrasting musical preferences'},\n",
       " {'document_uid': 'ae81cf4fc3', 'query': 'OpenFreeMap'},\n",
       " {'document_uid': 'ae81cf4fc3', 'query': 'Round Robin DNS'},\n",
       " {'document_uid': 'ae81cf4fc3', 'query': 'Server selection'},\n",
       " {'document_uid': 'ae81cf4fc3', 'query': 'Browser behavior'},\n",
       " {'document_uid': 'ae81cf4fc3', 'query': 'Cloudflare issues'},\n",
       " {'document_uid': 'ae81cf4fc3', 'query': 'Latency considerations'},\n",
       " {'document_uid': 'ae81cf4fc3', 'query': 'VPS testing'},\n",
       " {'document_uid': 'ae81cf4fc3', 'query': 'Network reliability'},\n",
       " {'document_uid': 'ae81cf4fc3', 'query': 'Happy Eyeballs RFC'},\n",
       " {'document_uid': 'ae81cf4fc3', 'query': 'Load balancing alternatives'},\n",
       " {'document_uid': 'd5d3474a2b', 'query': 'haunted domain'},\n",
       " {'document_uid': 'd5d3474a2b', 'query': 'domain reputation'},\n",
       " {'document_uid': 'd5d3474a2b', 'query': 'history of domains'},\n",
       " {'document_uid': 'd5d3474a2b', 'query': 'domain grading system'},\n",
       " {'document_uid': 'd5d3474a2b', 'query': \"internet's early history\"},\n",
       " {'document_uid': 'd5d3474a2b', 'query': 'domain vitality'},\n",
       " {'document_uid': 'd5d3474a2b', 'query': 'buying used domains'},\n",
       " {'document_uid': 'd5d3474a2b', 'query': 'domain inspection'},\n",
       " {'document_uid': 'd5d3474a2b', 'query': 'domain renovation'},\n",
       " {'document_uid': '7161b65a09', 'query': 'K-Dramas popularity'},\n",
       " {'document_uid': '7161b65a09', 'query': 'Download websites'},\n",
       " {'document_uid': '7161b65a09', 'query': 'English subtitles'},\n",
       " {'document_uid': '7161b65a09', 'query': 'Korean movies'},\n",
       " {'document_uid': '7161b65a09', 'query': 'Asian content'},\n",
       " {'document_uid': '7161b65a09', 'query': 'Free streaming'},\n",
       " {'document_uid': '7161b65a09', 'query': 'Viki, Dramacool, iQIYI'},\n",
       " {'document_uid': '7161b65a09', 'query': 'MyDramaList recommendations'},\n",
       " {'document_uid': '7161b65a09', 'query': 'Telegram channels'},\n",
       " {'document_uid': 'baed771279', 'query': 'JavaScript charAt method'},\n",
       " {'document_uid': 'baed771279', 'query': 'Character retrieval technique'},\n",
       " {'document_uid': 'baed771279', 'query': 'Index out of range'},\n",
       " {'document_uid': 'baed771279', 'query': 'Safe character access'},\n",
       " {'document_uid': 'baed771279', 'query': 'String processing'},\n",
       " {'document_uid': 'baed771279', 'query': 'Character extraction'},\n",
       " {'document_uid': 'baed771279', 'query': 'Practical examples'},\n",
       " {'document_uid': 'd6df169c03', 'query': 'Open Source Initiative'},\n",
       " {'document_uid': 'd6df169c03', 'query': 'Release Candidate 1'},\n",
       " {'document_uid': 'd6df169c03', 'query': 'Open Source AI Definition'},\n",
       " {'document_uid': 'd6df169c03', 'query': 'Software licensing'},\n",
       " {'document_uid': 'd6df169c03', 'query': 'Source code access'},\n",
       " {'document_uid': 'd6df169c03', 'query': 'Trust in software'},\n",
       " {'document_uid': 'd6df169c03', 'query': 'Reproducible builds'},\n",
       " {'document_uid': 'd6df169c03', 'query': 'AI systems'},\n",
       " {'document_uid': 'd6df169c03', 'query': 'Free Software vs Open Source'},\n",
       " {'document_uid': '21b1c97963', 'query': 'Norlha'},\n",
       " {'document_uid': '21b1c97963', 'query': 'Tibetan luxury brand'},\n",
       " {'document_uid': '21b1c97963', 'query': 'Ethical fashion'},\n",
       " {'document_uid': '21b1c97963', 'query': 'Sustainable practices'},\n",
       " {'document_uid': '21b1c97963', 'query': 'Yak wool'},\n",
       " {'document_uid': '21b1c97963', 'query': 'Hand-crafted clothing'},\n",
       " {'document_uid': '21b1c97963', 'query': 'Local economy support'},\n",
       " {'document_uid': '21b1c97963', 'query': 'Cultural preservation'},\n",
       " {'document_uid': '21b1c97963', 'query': 'Timeless garments'},\n",
       " {'document_uid': '21b1c97963', 'query': 'Community empowerment'},\n",
       " {'document_uid': '3210d8a096', 'query': 'Password strength'},\n",
       " {'document_uid': '3210d8a096', 'query': 'Brute-force attacks'},\n",
       " {'document_uid': '3210d8a096', 'query': 'Cosmology and computing'},\n",
       " {'document_uid': '3210d8a096', 'query': 'Entropy bits'},\n",
       " {'document_uid': '3210d8a096', 'query': 'Unbreakable passwords'},\n",
       " {'document_uid': 'adb4c4f1f9', 'query': 'Australia-Asia Power Link'},\n",
       " {'document_uid': 'adb4c4f1f9', 'query': 'solar energy project'},\n",
       " {'document_uid': 'adb4c4f1f9', 'query': 'renewable energy approval'},\n",
       " {'document_uid': 'adb4c4f1f9', 'query': 'Undersea power cables'},\n",
       " {'document_uid': 'adb4c4f1f9', 'query': 'Northern Territory solar farm'},\n",
       " {'document_uid': 'adb4c4f1f9', 'query': 'clean energy export'},\n",
       " {'document_uid': 'adb4c4f1f9', 'query': 'gigawatt capacity'},\n",
       " {'document_uid': 'adb4c4f1f9', 'query': 'environmental approval'},\n",
       " {'document_uid': 'adb4c4f1f9', 'query': 'SunCable project'},\n",
       " {'document_uid': 'adb4c4f1f9', 'query': 'electricity transmission'},\n",
       " {'document_uid': '3614585ef1', 'query': 'Debian and AI models'},\n",
       " {'document_uid': '3614585ef1', 'query': 'Mo Zhou interview'},\n",
       " {'document_uid': '3614585ef1', 'query': 'Open source AI challenges'},\n",
       " {'document_uid': '3614585ef1', 'query': 'Machine learning policy'},\n",
       " {'document_uid': '3614585ef1', 'query': 'Free software principles'},\n",
       " {'document_uid': '74529f6553', 'query': 'parallel testing'},\n",
       " {'document_uid': '74529f6553', 'query': 'test refactoring'},\n",
       " {'document_uid': '74529f6553', 'query': 'Go lang conventions'},\n",
       " {'document_uid': '74529f6553', 'query': 'performance improvement'},\n",
       " {'document_uid': '74529f6553', 'query': 'test bundle structure'},\n",
       " {'document_uid': '3f7306603b', 'query': '403 Forbidden'},\n",
       " {'document_uid': '3f7306603b', 'query': 'nginx error'},\n",
       " {'document_uid': '0b6da052f8', 'query': 'price database'},\n",
       " {'document_uid': '0b6da052f8', 'query': 'service prices'},\n",
       " {'document_uid': '0b6da052f8', 'query': 'project inquiry'},\n",
       " {'document_uid': '0b6da052f8', 'query': 'price transparency'},\n",
       " {'document_uid': 'e406a7ef42', 'query': 'SSH protocol'},\n",
       " {'document_uid': 'e406a7ef42', 'query': 'Host key verification'},\n",
       " {'document_uid': 'e406a7ef42', 'query': 'SSHFP records'},\n",
       " {'document_uid': 'e406a7ef42', 'query': 'Network security'},\n",
       " {'document_uid': 'e406a7ef42', 'query': 'Research study'},\n",
       " {'document_uid': 'e406a7ef42', 'query': 'MitM attacks'},\n",
       " {'document_uid': 'e406a7ef42', 'query': 'DNSSEC'},\n",
       " {'document_uid': 'e406a7ef42', 'query': 'Fingerprint comparison'},\n",
       " {'document_uid': '48b7491df1', 'query': 'unit tests'},\n",
       " {'document_uid': '48b7491df1', 'query': 'assembler challenges'},\n",
       " {'document_uid': '48b7491df1', 'query': 'maze generation'},\n",
       " {'document_uid': '48b7491df1', 'query': 'test code preferences'},\n",
       " {'document_uid': '48b7491df1', 'query': 'random number generation'},\n",
       " {'document_uid': 'ad6d63cae6', 'query': 'Enable JavaScript'},\n",
       " {'document_uid': 'ad6d63cae6', 'query': 'Enable cookies'},\n",
       " {'document_uid': 'a2342caa7f', 'query': 'protocol refinement'},\n",
       " {'document_uid': 'a2342caa7f', 'query': 'stateful request/response'},\n",
       " {'document_uid': 'a2342caa7f', 'query': 'hash-identified URLs'},\n",
       " {'document_uid': 'a2342caa7f', 'query': 'error handling'},\n",
       " {'document_uid': 'a2342caa7f', 'query': 'mutable identifiers'},\n",
       " {'document_uid': '24fd4b247d', 'query': 'CO2 capture'},\n",
       " {'document_uid': '24fd4b247d', 'query': 'ambient air'},\n",
       " {'document_uid': '24fd4b247d', 'query': 'metal-organic frameworks'},\n",
       " {'document_uid': '24fd4b247d', 'query': 'direct air capture'},\n",
       " {'document_uid': '24fd4b247d', 'query': 'sorbents for CO2'},\n",
       " {'document_uid': '24fd4b247d', 'query': 'crystalline-phase release'},\n",
       " {'document_uid': '24fd4b247d', 'query': 'life-cycle assessment'},\n",
       " {'document_uid': '24fd4b247d', 'query': 'covalent organic frameworks'},\n",
       " {'document_uid': '24fd4b247d', 'query': 'adsorption techniques'},\n",
       " {'document_uid': '24fd4b247d', 'query': 'nano-porous networks'},\n",
       " {'document_uid': 'd860c358e5', 'query': 'Weekly plans'},\n",
       " {'document_uid': 'd860c358e5', 'query': 'Share activities'},\n",
       " {'document_uid': 'd860c358e5', 'query': 'Do nothing'},\n",
       " {'document_uid': 'd860c358e5', 'query': 'Casual conversation'},\n",
       " {'document_uid': '3411e55fe0', 'query': 'AI model prompts'},\n",
       " {'document_uid': '3411e55fe0', 'query': 'Software engineering challenges'},\n",
       " {'document_uid': '3411e55fe0', 'query': 'LLM user interactions'},\n",
       " {'document_uid': '3411e55fe0', 'query': 'Prompts as programs'},\n",
       " {'document_uid': '3411e55fe0', 'query': 'AI Software systems'},\n",
       " {'document_uid': '3411e55fe0', 'query': 'Prompt optimization techniques'},\n",
       " {'document_uid': '3411e55fe0', 'query': 'Natural language prompting'},\n",
       " {'document_uid': '3411e55fe0', 'query': 'Robust software creation'},\n",
       " {'document_uid': '1259195d10', 'query': 'JavaScript'},\n",
       " {'document_uid': '1259195d10', 'query': 'cookies'},\n",
       " {'document_uid': '1259195d10', 'query': 'enable'},\n",
       " {'document_uid': '1259195d10', 'query': 'continue'},\n",
       " {'document_uid': 'f7b07bfcb5', 'query': 'action not allowed'},\n",
       " {'document_uid': 'f7b07bfcb5', 'query': 'cannot perform action'},\n",
       " {'document_uid': '8a0faadb87', 'query': 'Vote fractions'},\n",
       " {'document_uid': '8a0faadb87', 'query': 'Zero vote fraction'}]"
      ]
     },
     "execution_count": 26,
     "metadata": {},
     "output_type": "execute_result"
    }
   ],
   "execution_count": 26
  },
  {
   "metadata": {
    "ExecuteTime": {
     "end_time": "2024-10-29T12:38:02.778491Z",
     "start_time": "2024-10-29T12:38:02.737868Z"
    }
   },
   "cell_type": "code",
   "source": [
    "milvus_search_fn = lambda query: milvus_client.search(\n",
    "    collection_name=collection_name,\n",
    "    data=[\n",
    "        embeddings.get_embeddings(query)\n",
    "    ],\n",
    "    limit=5,\n",
    "    search_params={\"metric_type\": \"IP\", \"params\": {}},\n",
    "    output_fields=[\"document_uid\"],\n",
    ")"
   ],
   "id": "d104a9d6d074c61",
   "outputs": [],
   "execution_count": 27
  },
  {
   "metadata": {
    "ExecuteTime": {
     "end_time": "2024-10-29T12:38:16.443983Z",
     "start_time": "2024-10-29T12:38:02.798274Z"
    }
   },
   "cell_type": "code",
   "source": "evaluate(ground_truth, milvus_search_fn)",
   "id": "ef8388958fd89909",
   "outputs": [
    {
     "data": {
      "text/plain": [
       "  0%|          | 0/306 [00:00<?, ?it/s]"
      ],
      "application/vnd.jupyter.widget-view+json": {
       "version_major": 2,
       "version_minor": 0,
       "model_id": "83878830b3af49189234e43cfb5ea8c3"
      }
     },
     "metadata": {},
     "output_type": "display_data"
    },
    {
     "data": {
      "text/plain": [
       "{'hit_rate': 0.8986928104575164, 'mrr': 0.7782679738562093}"
      ]
     },
     "execution_count": 28,
     "metadata": {},
     "output_type": "execute_result"
    }
   ],
   "execution_count": 28
  },
  {
   "metadata": {
    "ExecuteTime": {
     "end_time": "2024-10-29T12:38:16.517996Z",
     "start_time": "2024-10-29T12:38:16.474750Z"
    }
   },
   "cell_type": "code",
   "source": [
    "completed_at = time.time()\n",
    "\n",
    "time_spent = (completed_at - started_at)\n",
    "\n",
    "print(f\"Completed at {datetime.now()}, execution took ~{int(time_spent / 60)} min\")\n",
    "print(f\"Number of stored HN entries: {len(stored_hn)}\")\n",
    "print(f\"Number of stored Lobste.rs entries: {len(stored_lr)}\")"
   ],
   "id": "8a766113010d2204",
   "outputs": [
    {
     "name": "stdout",
     "output_type": "stream",
     "text": [
      "Completed at 2024-10-29 13:38:16.514702, execution took ~0 min\n",
      "Number of stored HN entries: 220\n",
      "Number of stored Lobste.rs entries: 70\n"
     ]
    }
   ],
   "execution_count": 29
  },
  {
   "metadata": {
    "ExecuteTime": {
     "end_time": "2024-10-29T12:38:20.225184Z",
     "start_time": "2024-10-29T12:38:20.183591Z"
    }
   },
   "cell_type": "code",
   "source": "milvus_client.close()",
   "id": "51f83f7dc63d63c1",
   "outputs": [],
   "execution_count": 31
  }
 ],
 "metadata": {
  "kernelspec": {
   "display_name": "Python 3",
   "language": "python",
   "name": "python3"
  },
  "language_info": {
   "codemirror_mode": {
    "name": "ipython",
    "version": 2
   },
   "file_extension": ".py",
   "mimetype": "text/x-python",
   "name": "python",
   "nbconvert_exporter": "python",
   "pygments_lexer": "ipython2",
   "version": "2.7.6"
  }
 },
 "nbformat": 4,
 "nbformat_minor": 5
}
